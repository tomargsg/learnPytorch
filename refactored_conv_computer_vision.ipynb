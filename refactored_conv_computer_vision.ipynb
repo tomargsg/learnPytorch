{
 "cells": [
  {
   "cell_type": "code",
   "execution_count": 1,
   "id": "ce273e29-8a43-445a-b36a-e1d2983bad42",
   "metadata": {},
   "outputs": [
    {
     "name": "stderr",
     "output_type": "stream",
     "text": [
      "/Users/amittomar/miniconda3/envs/denv/lib/python3.10/site-packages/tqdm/auto.py:22: TqdmWarning: IProgress not found. Please update jupyter and ipywidgets. See https://ipywidgets.readthedocs.io/en/stable/user_install.html\n",
      "  from .autonotebook import tqdm as notebook_tqdm\n"
     ]
    },
    {
     "name": "stdout",
     "output_type": "stream",
     "text": [
      " torch version :1.13.1\n",
      " torchvision version : 0.14.1\n"
     ]
    }
   ],
   "source": [
    "import torch, torchvision\n",
    "from torch import nn\n",
    "from torchvision import datasets\n",
    "from torchvision import transforms\n",
    "from torchvision.transforms import ToTensor\n",
    "import matplotlib.pyplot as plt\n",
    "\n",
    "print(f\" torch version :{torch.__version__}\")\n",
    "print(f\" torchvision version : {torchvision.__version__}\")"
   ]
  },
  {
   "cell_type": "markdown",
   "id": "cd83d6eb-dda3-41d6-86d9-5f1379b96337",
   "metadata": {},
   "source": [
    "## Load data and load train and test dataloader"
   ]
  },
  {
   "cell_type": "code",
   "execution_count": 2,
   "id": "5250916c-0f6f-4a29-9d26-24cac63250e4",
   "metadata": {},
   "outputs": [],
   "source": [
    "train_data = datasets.FashionMNIST(root=\"data\",\n",
    "                                  train=True,\n",
    "                                  download=True,\n",
    "                                  transform=torchvision.transforms.ToTensor(), # How do we transform the data\n",
    "                                  target_transform=None)  # How do you transofrm the labels\n",
    "\n",
    "test_data = datasets.FashionMNIST(root=\"data\",\n",
    "                                  train=False,\n",
    "                                  download=True,\n",
    "                                  transform=torchvision.transforms.ToTensor(), # How do we transform the data\n",
    "                                  target_transform=None)  # How do you transofrm the labels\n"
   ]
  },
  {
   "cell_type": "code",
   "execution_count": 3,
   "id": "bb5f93ae-7fe7-4b74-9132-19051d89aab1",
   "metadata": {},
   "outputs": [
    {
     "data": {
      "text/plain": [
       "(60000, 10000)"
      ]
     },
     "execution_count": 3,
     "metadata": {},
     "output_type": "execute_result"
    }
   ],
   "source": [
    "len(train_data), len(test_data)"
   ]
  },
  {
   "cell_type": "code",
   "execution_count": 4,
   "id": "cc6ab348-3584-4ea7-a09f-d49d08c2a87e",
   "metadata": {},
   "outputs": [
    {
     "data": {
      "text/plain": [
       "'cpu'"
      ]
     },
     "execution_count": 4,
     "metadata": {},
     "output_type": "execute_result"
    }
   ],
   "source": [
    "# setup device agnostic code\n",
    "device = \"cuda\" if torch.cuda.is_available() else \"cpu\"\n",
    "device"
   ]
  },
  {
   "cell_type": "code",
   "execution_count": 5,
   "id": "88250d23-0889-478f-b813-b66fa400e0c7",
   "metadata": {},
   "outputs": [
    {
     "data": {
      "text/plain": [
       "{0: 'T-shirt/top',\n",
       " 1: 'Trouser',\n",
       " 2: 'Pullover',\n",
       " 3: 'Dress',\n",
       " 4: 'Coat',\n",
       " 5: 'Sandal',\n",
       " 6: 'Shirt',\n",
       " 7: 'Sneaker',\n",
       " 8: 'Bag',\n",
       " 9: 'Ankle boot'}"
      ]
     },
     "execution_count": 5,
     "metadata": {},
     "output_type": "execute_result"
    }
   ],
   "source": [
    "class_names = train_data.class_to_idx\n",
    "id_to_class = {}\n",
    "for idx,clas in enumerate(class_names):\n",
    "    id_to_class[idx]= clas\n",
    "id_to_class\n"
   ]
  },
  {
   "cell_type": "code",
   "execution_count": null,
   "id": "a1ba4c1d-99fb-433a-a8bd-52031001a57c",
   "metadata": {},
   "outputs": [],
   "source": []
  },
  {
   "cell_type": "code",
   "execution_count": 6,
   "id": "7feb5882-94d9-4775-843b-ddc952118767",
   "metadata": {},
   "outputs": [
    {
     "data": {
      "text/plain": [
       "(<torch.utils.data.dataloader.DataLoader at 0x11bde6e00>,\n",
       " <torch.utils.data.dataloader.DataLoader at 0x11bde7370>)"
      ]
     },
     "execution_count": 6,
     "metadata": {},
     "output_type": "execute_result"
    }
   ],
   "source": [
    "#prepare Dataloader\n",
    "from torch.utils.data import DataLoader\n",
    "\n",
    "BATCH_SIZE = 32\n",
    "\n",
    "train_dataloader = DataLoader(dataset=train_data, batch_size=BATCH_SIZE, shuffle=True)\n",
    "# not shuffling the test data\n",
    "test_dataloader = DataLoader(dataset=test_data, batch_size=BATCH_SIZE, shuffle=False )\n",
    "train_dataloader, test_dataloader"
   ]
  },
  {
   "cell_type": "markdown",
   "id": "48f3459c-af62-484c-81ff-9282722c4cf5",
   "metadata": {},
   "source": [
    "## Create Model with linear and Non Liner layer"
   ]
  },
  {
   "cell_type": "code",
   "execution_count": 7,
   "id": "f2dfc145-99e0-49cb-89b3-c609e35d7c87",
   "metadata": {},
   "outputs": [],
   "source": [
    "class FashionMnistModelV1(nn.Module):\n",
    "    def __init__(self,\n",
    "                input_shape: int,\n",
    "                hidden_unit: int,\n",
    "                output_shape:int):\n",
    "        super().__init__()\n",
    "        self.layer_stack = nn.Sequential(\n",
    "        nn.Flatten(),\n",
    "        nn.Linear(in_features=input_shape, out_features=hidden_unit),\n",
    "        nn.ReLU(),\n",
    "        nn.Linear(in_features=hidden_unit,\n",
    "                 out_features= output_shape),\n",
    "        nn.ReLU())\n",
    "    \n",
    "    def forward(self, x):\n",
    "        return self.layer_stack(x)"
   ]
  },
  {
   "cell_type": "code",
   "execution_count": 8,
   "id": "65f101bd-d2b8-4000-8b4a-174aa4c2287c",
   "metadata": {},
   "outputs": [],
   "source": [
    "# create manual instance pf MOdel_1\n",
    "torch.manual_seed(42)\n",
    "model_1 = FashionMnistModelV1(input_shape=784,\n",
    "                             hidden_unit=10,\n",
    "                             output_shape=len(class_names)).to(device)"
   ]
  },
  {
   "cell_type": "code",
   "execution_count": 9,
   "id": "00c074ef-3dd0-4f12-8ccc-3220b9fd82c8",
   "metadata": {},
   "outputs": [
    {
     "data": {
      "text/plain": [
       "<generator object Module.parameters at 0x11bd83530>"
      ]
     },
     "execution_count": 9,
     "metadata": {},
     "output_type": "execute_result"
    }
   ],
   "source": [
    "model_1.parameters()"
   ]
  },
  {
   "cell_type": "markdown",
   "id": "c51ca0da-31c2-4adb-8979-58ecda898f50",
   "metadata": {},
   "source": [
    "## Set loss fun and Optimizer"
   ]
  },
  {
   "cell_type": "code",
   "execution_count": 10,
   "id": "ff1267bf-b0c2-41cf-8e6e-fba017b992c1",
   "metadata": {},
   "outputs": [],
   "source": [
    "from helper_functions import accuracy_fn\n",
    "loss_fn = nn.CrossEntropyLoss()\n",
    "optimizer = torch.optim.Adam(params=model_1.parameters(),lr=0.001)"
   ]
  },
  {
   "cell_type": "markdown",
   "id": "43574733-2652-4505-bff9-0c496eb5e87d",
   "metadata": {},
   "source": [
    "## Functioning Training and testing Step in shape of different reusable functions"
   ]
  },
  {
   "cell_type": "code",
   "execution_count": 11,
   "id": "7b4b4e7f-f108-4056-aaa0-13b1cfaf4ee3",
   "metadata": {},
   "outputs": [],
   "source": [
    "torch.manual_seed(42)\n",
    "def test_step(model: torch.nn.Module,\n",
    "              data_loader: torch.utils.data.DataLoader,\n",
    "              loss_fn : torch.nn.Module,\n",
    "              accuracy_fn,\n",
    "             device: torch.device = device) :\n",
    "    \"\"\" Returns a dictionary containing the results of model predicting on data loader\"\"\"\n",
    "    loss, acc = 0,0\n",
    "    model.eval()\n",
    "    with torch.inference_mode():\n",
    "        for X,y in tqdm(data_loader):\n",
    "            X,y = X.to(device), y.to(device)\n",
    "            # Make ored\n",
    "            y_pred = model(X)\n",
    "            \n",
    "            # Acumulate teh loss and accuracy\n",
    "            \n",
    "            loss += loss_fn(y_pred,y)\n",
    "            acc += accuracy_fn(y_true =y, y_pred=y_pred.argmax(dim=1))\n",
    "        \n",
    "        # normalize loss and acc by getting mean of batch for loss/acc\n",
    "        loss /= len(data_loader)\n",
    "        acc /= len(data_loader)\n",
    "    print(f\"Test loss: {loss:3f} | Test acc : {acc:2f}% \\n\")\n",
    "    return{ \"model_name\" : model.__class__.__name__,\n",
    "               \"model_loss\" : loss.item(),\n",
    "               \"model_acc\" : acc\n",
    "        }"
   ]
  },
  {
   "cell_type": "code",
   "execution_count": 12,
   "id": "480ec29a-b0cc-417d-b568-868a04c5124f",
   "metadata": {},
   "outputs": [],
   "source": [
    "#@title Default title text\n",
    "def train_step(model : torch.nn.Module,\n",
    "               dataloader : torch.utils.data.DataLoader,\n",
    "               loss_fn: torch.nn.Module,\n",
    "               optimizer: torch.optim.Optimizer,\n",
    "               accuracy_fn,\n",
    "               device: torch.device = device):\n",
    "    \"\"\"Performs a training with model trying to learn on dataloader\"\"\"\n",
    "    train_loss, train_acc = 0,0\n",
    "    for batch, (X,y) in enumerate(dataloader):\n",
    "        X,y = X.to(device), y.to(device)\n",
    "        model.train()\n",
    "        #1, Fwd pass\n",
    "        y_pred = model(X)\n",
    "        #2. loss\n",
    "        loss = loss_fn(y_pred,y)\n",
    "        train_loss += loss\n",
    "\n",
    "        train_acc += accuracy_fn(y_true=y,y_pred=y_pred.argmax(dim=1))\n",
    "        # 3. \n",
    "        optimizer.zero_grad()\n",
    "        # 4. loss back\n",
    "        loss.backward()\n",
    "        # 5 . Step\n",
    "        optimizer.step()\n",
    "        # print\n",
    "        if batch % 400 == 0:\n",
    "            print(f\"Looked at {batch * len(X)}/ {len(dataloader.dataset)} samples\")\n",
    "\n",
    "        # normalize loss and acc by getting mean of batch for loss/acc\n",
    "        train_loss /= len(dataloader)\n",
    "        train_acc /= len(dataloader)\n",
    "\n",
    "    print(f\"Train loss: {train_loss:3f} | Train acc : {train_acc:2f}% \\n\")"
   ]
  },
  {
   "cell_type": "code",
   "execution_count": 13,
   "id": "336d62fc-6234-4870-ad73-7bcb8eabbbdb",
   "metadata": {},
   "outputs": [
    {
     "name": "stdout",
     "output_type": "stream",
     "text": [
      "Requirement already satisfied: tqdm in /Users/amittomar/miniconda3/envs/denv/lib/python3.10/site-packages (4.64.1)\n"
     ]
    }
   ],
   "source": [
    "!pip install tqdm"
   ]
  },
  {
   "cell_type": "code",
   "execution_count": 14,
   "id": "70f13580-2512-472e-812d-c3f166579d53",
   "metadata": {},
   "outputs": [],
   "source": [
    "from timeit import default_timer as timer\n",
    "def print_total_time(start: float,\n",
    "       end: float,\n",
    "       device: torch.device = None):\n",
    "    tat = end - start\n",
    "    print(f\"Train time on :{device} : {tat:3f} seconds\")\n",
    "    return tat"
   ]
  },
  {
   "cell_type": "code",
   "execution_count": 15,
   "id": "e3a56d69-95af-465d-bd30-df6465b0116c",
   "metadata": {},
   "outputs": [
    {
     "name": "stdout",
     "output_type": "stream",
     "text": [
      "Epoch: 0 \n",
      " **************\n",
      "Looked at 0/ 60000 samples\n",
      "Looked at 12800/ 60000 samples\n",
      "Looked at 25600/ 60000 samples\n",
      "Looked at 38400/ 60000 samples\n",
      "Looked at 51200/ 60000 samples\n",
      "Train loss: 0.000480 | Train acc : 0.035020% \n",
      "\n"
     ]
    },
    {
     "name": "stderr",
     "output_type": "stream",
     "text": [
      "100%|██████████████████████████████████████████████████████| 313/313 [00:00<00:00, 1683.81it/s]"
     ]
    },
    {
     "name": "stdout",
     "output_type": "stream",
     "text": [
      "Test loss: 0.954342 | Test acc : 65.565096% \n",
      "\n",
      "{'model_name': 'FashionMnistModelV1', 'model_loss': 0.9543418288230896, 'model_acc': 65.56509584664536}\n",
      "Epoch: 1 \n",
      " **************\n",
      "Looked at 0/ 60000 samples\n"
     ]
    },
    {
     "name": "stderr",
     "output_type": "stream",
     "text": [
      "\n"
     ]
    },
    {
     "name": "stdout",
     "output_type": "stream",
     "text": [
      "Looked at 12800/ 60000 samples\n",
      "Looked at 25600/ 60000 samples\n",
      "Looked at 38400/ 60000 samples\n",
      "Looked at 51200/ 60000 samples\n",
      "Train loss: 0.000354 | Train acc : 0.038354% \n",
      "\n"
     ]
    },
    {
     "name": "stderr",
     "output_type": "stream",
     "text": [
      "100%|██████████████████████████████████████████████████████| 313/313 [00:00<00:00, 1690.59it/s]"
     ]
    },
    {
     "name": "stdout",
     "output_type": "stream",
     "text": [
      "Test loss: 0.922483 | Test acc : 66.244010% \n",
      "\n",
      "{'model_name': 'FashionMnistModelV1', 'model_loss': 0.9224833250045776, 'model_acc': 66.24400958466454}\n",
      "Epoch: 2 \n",
      " **************\n",
      "Looked at 0/ 60000 samples\n"
     ]
    },
    {
     "name": "stderr",
     "output_type": "stream",
     "text": [
      "\n"
     ]
    },
    {
     "name": "stdout",
     "output_type": "stream",
     "text": [
      "Looked at 12800/ 60000 samples\n",
      "Looked at 25600/ 60000 samples\n",
      "Looked at 38400/ 60000 samples\n",
      "Looked at 51200/ 60000 samples\n",
      "Train loss: 0.000639 | Train acc : 0.028356% \n",
      "\n"
     ]
    },
    {
     "name": "stderr",
     "output_type": "stream",
     "text": [
      "100%|██████████████████████████████████████████████████████| 313/313 [00:00<00:00, 1656.36it/s]"
     ]
    },
    {
     "name": "stdout",
     "output_type": "stream",
     "text": [
      "Test loss: 0.903419 | Test acc : 66.813099% \n",
      "\n",
      "{'model_name': 'FashionMnistModelV1', 'model_loss': 0.9034186005592346, 'model_acc': 66.81309904153355}\n",
      "Train time on :cpu : 5.500327 seconds\n",
      "time in training : 5.500326624955051\n"
     ]
    },
    {
     "name": "stderr",
     "output_type": "stream",
     "text": [
      "\n"
     ]
    }
   ],
   "source": [
    "torch.manual_seed(42)\n",
    "from tqdm import tqdm\n",
    "# measure time\n",
    "from timeit import default_timer as timer\n",
    "training_start_time = timer()\n",
    "\n",
    "epochs =3\n",
    "\n",
    "# Create a training toop \n",
    "\n",
    "for epoch in range(epochs):\n",
    "    print(f\"Epoch: {epoch} \\n **************\")\n",
    "    train_step(model=model_1,\n",
    "              dataloader=train_dataloader,\n",
    "              loss_fn= loss_fn,\n",
    "              optimizer=optimizer,\n",
    "              accuracy_fn=accuracy_fn,\n",
    "              device= device)\n",
    "    test_ret = test_step(model= model_1,\n",
    "             data_loader=test_dataloader,\n",
    "             accuracy_fn=accuracy_fn,\n",
    "            loss_fn=loss_fn,\n",
    "             device=device)\n",
    "    print(test_ret)\n",
    "train_time_end = timer()\n",
    "tat = print_total_time(start=training_start_time,\n",
    "         end=train_time_end,\n",
    "         device= device)\n",
    "print(f\"time in training : {tat}\")\n"
   ]
  },
  {
   "cell_type": "markdown",
   "id": "bbe51184-b53a-4d56-b80a-25787106f196",
   "metadata": {},
   "source": [
    "## Article on utilizing GPu to fast speed\n",
    "##### https://horace.io/brrr_intro.html"
   ]
  },
  {
   "cell_type": "code",
   "execution_count": 16,
   "id": "126efaa0-f92b-49ae-a2c7-49437ff8aa15",
   "metadata": {},
   "outputs": [],
   "source": [
    "### get model results decitionary\n",
    "device = \"cuda\" if torch.cuda.is_available() else \"cpu\"\n",
    "torch.manual_seed(42)\n",
    "def eval_model(model: torch.nn.Module,\n",
    "              data_loader: torch.utils.data.DataLoader,\n",
    "              loss_fn : torch.nn.Module,\n",
    "              accuracy_fn,\n",
    "              device = device) :\n",
    "    \"\"\" Returns a dictionary containing the results of model predicting on data loader\"\"\"\n",
    "    loss, acc = 0,0\n",
    "    model.eval()\n",
    "    with torch.inference_mode():\n",
    "        for X,y in tqdm(data_loader):\n",
    "            X,y = X.to(device), y.to(device)\n",
    "            # Make ored\n",
    "            y_pred = model(X)\n",
    "            \n",
    "            # Acumulate teh loss and accuracy\n",
    "            \n",
    "            loss += loss_fn(y_pred,y)\n",
    "            acc += accuracy_fn(y_true =y, y_pred=y_pred.argmax(dim=1))\n",
    "        \n",
    "        loss /= len(data_loader)\n",
    "        acc /= len(data_loader)\n",
    "        return{ \"model_name\" : model.__class__.__name__,\n",
    "               \"model_loss\" : loss.item(),\n",
    "               \"model_acc\" : acc\n",
    "        }"
   ]
  },
  {
   "cell_type": "code",
   "execution_count": 17,
   "id": "5d16c4d4-9ed8-4d5f-a8f5-f84a6c4eb749",
   "metadata": {},
   "outputs": [
    {
     "name": "stderr",
     "output_type": "stream",
     "text": [
      "100%|██████████████████████████████████████████████████████| 313/313 [00:00<00:00, 1656.31it/s]\n"
     ]
    },
    {
     "data": {
      "text/plain": [
       "{'model_name': 'FashionMnistModelV1',\n",
       " 'model_loss': 0.9034186005592346,\n",
       " 'model_acc': 66.81309904153355}"
      ]
     },
     "execution_count": 17,
     "metadata": {},
     "output_type": "execute_result"
    }
   ],
   "source": [
    "model_1_results = eval_model(model=model_1,\n",
    "                            data_loader=test_dataloader,\n",
    "                            loss_fn=loss_fn,\n",
    "                           accuracy_fn=accuracy_fn,\n",
    "                           device = device)\n",
    "model_1_results"
   ]
  },
  {
   "cell_type": "markdown",
   "id": "3dc6e0c4-bd65-446e-a94c-234eeed8ea4b",
   "metadata": {},
   "source": [
    "### Model expirements\n",
    "##### Use of ConvNet  in visual Data  : https://poloclub.github.io/cnn-explainer/"
   ]
  },
  {
   "cell_type": "code",
   "execution_count": 18,
   "id": "4ca2bfb7-8722-4384-9119-f7d7404e8286",
   "metadata": {},
   "outputs": [],
   "source": [
    "torch.manual_seed(42)\n",
    "class FashionMnistModelV2(nn.Module):\n",
    "    def __init__(self,\n",
    "                input_shape: int,\n",
    "                hidden_units: int,\n",
    "                output_shape: int):\n",
    "        super().__init__()\n",
    "        self.conv_block_1 = nn.Sequential(\n",
    "        nn.Conv2d(in_channels=input_shape,\n",
    "                 out_channels= hidden_units,\n",
    "                 kernel_size= 3,\n",
    "                 stride= 1,\n",
    "                 padding= 1),\n",
    "        nn.ReLU(),\n",
    "        nn.Conv2d(in_channels = hidden_units,\n",
    "                 out_channels = hidden_units,\n",
    "                 kernel_size  = 3,\n",
    "                 stride=1,\n",
    "                 padding=1),  # Value we set ourself are hyper parameter\n",
    "        nn.MaxPool2d(kernel_size=2))\n",
    "        \n",
    "        self.conv_block_2 = nn.Sequential(\n",
    "            nn.Conv2d(in_channels= hidden_units,\n",
    "                                         out_channels= hidden_units, \n",
    "                                         kernel_size= 3,\n",
    "                                         stride =1 ,\n",
    "                                         padding =1),\n",
    "            nn.ReLU(),\n",
    "            nn.Conv2d(in_channels= hidden_units,\n",
    "                     out_channels= hidden_units,\n",
    "                     kernel_size =3,\n",
    "                     stride=1,\n",
    "                     padding=1),\n",
    "            nn.ReLU(),\n",
    "            nn.MaxPool2d(kernel_size=2)\n",
    "        )\n",
    "        \n",
    "        self.classification_layer = nn.Sequential(\n",
    "        nn.Flatten(),\n",
    "            nn.Linear(in_features=hidden_units*7*7,\n",
    "                     out_features=output_shape)\n",
    "        )\n",
    "        \n",
    "    def forward(self, x):\n",
    "        # return self.classification_layer(self.conv_block_2(self.conv_block_1(x)))\n",
    "        x = self.conv_block_1(x)\n",
    "        # print(f\"shape post 1st conv layer : {x.shape}\")\n",
    "        x = self.conv_block_2(x)\n",
    "        # print(f\"shape post 2nd conv layer : {x.shape}\")\n",
    "        x = self.classification_layer(x)\n",
    "        # print(f\"shape post classification layer : {x.shape}\")\n",
    "        return x"
   ]
  },
  {
   "cell_type": "code",
   "execution_count": null,
   "id": "eb00b4de-f5cc-4a43-a544-1ece57e4f378",
   "metadata": {},
   "outputs": [],
   "source": []
  },
  {
   "cell_type": "code",
   "execution_count": 19,
   "id": "4d4d1add-2f4e-4575-847b-f22e655caf9c",
   "metadata": {},
   "outputs": [],
   "source": [
    "torch.manual_seed(42)\n",
    "model_2 = FashionMnistModelV2(input_shape=1,\n",
    "                             hidden_units=10,\n",
    "                             output_shape=len(class_names)).to(device)"
   ]
  },
  {
   "cell_type": "markdown",
   "id": "97c2aff6-afac-4293-8e75-5cd85ce60374",
   "metadata": {},
   "source": [
    "## steping through nn.Conv2d"
   ]
  },
  {
   "cell_type": "code",
   "execution_count": 20,
   "id": "5d6ffed7-3807-4209-8f7b-fab01b5209fc",
   "metadata": {},
   "outputs": [
    {
     "data": {
      "text/plain": [
       "torch.Size([3, 64, 64])"
      ]
     },
     "execution_count": 20,
     "metadata": {},
     "output_type": "execute_result"
    }
   ],
   "source": [
    "torch.manual_seed(42)\n",
    "images = torch.randn(size=(32,3,64,64))\n",
    "test_image = images[0]\n",
    "test_image.shape"
   ]
  },
  {
   "cell_type": "code",
   "execution_count": 21,
   "id": "12e9c55e-1517-47f0-a2dd-976afe411551",
   "metadata": {},
   "outputs": [
    {
     "data": {
      "text/plain": [
       "torch.Size([10, 64, 64])"
      ]
     },
     "execution_count": 21,
     "metadata": {},
     "output_type": "execute_result"
    }
   ],
   "source": [
    "## create conv2d layer\n",
    "conv_layer = nn.Conv2d(in_channels=3,\n",
    "                       out_channels=10,\n",
    "                      kernel_size=(3,3),\n",
    "                      stride=1,\n",
    "                      padding=1)\n",
    "conv_out = conv_layer(test_image)\n",
    "conv_out.shape"
   ]
  },
  {
   "cell_type": "code",
   "execution_count": 22,
   "id": "0f603feb-4121-4607-bae8-3dc9e6f0edab",
   "metadata": {},
   "outputs": [
    {
     "name": "stdout",
     "output_type": "stream",
     "text": [
      "Test image shape: torch.Size([3, 64, 64]) \n",
      "Test image with unsqueeze: torch.Size([1, 3, 64, 64]) \n",
      "Test image conved : torch.Size([1, 10, 64, 64]) \n"
     ]
    }
   ],
   "source": [
    "##stepping through nn.MaxPoool\n",
    "print(f\"Test image shape: {test_image.shape} \")\n",
    "print(f\"Test image with unsqueeze: {test_image.unsqueeze(0).shape} \")\n",
    "\n",
    "max_pool = nn.MaxPool2d(kernel_size=2)\n",
    "\n",
    "# pass data through conv_layer\n",
    "test_conv_out = conv_layer(test_image.unsqueeze(dim=0))\n",
    "print(f\"Test image conved : {test_conv_out.shape} \")\n",
    "\n",
    "#pass data through Maxpool layer\n"
   ]
  },
  {
   "cell_type": "code",
   "execution_count": 23,
   "id": "ace6b561-3269-482c-800b-f371b1b7f50b",
   "metadata": {},
   "outputs": [
    {
     "data": {
      "text/plain": [
       "torch.Size([1, 1, 1, 1])"
      ]
     },
     "execution_count": 23,
     "metadata": {},
     "output_type": "execute_result"
    }
   ],
   "source": [
    "torch.manual_seed(42)\n",
    "# create a random tendsor with similar no of dimensions\n",
    "random_tensor = torch.randn(1,1,2,2)\n",
    "random_tensor\n",
    "max_pool_layer = nn.MaxPool2d(kernel_size=2)\n",
    "max_pooled_tensor = max_pool_layer(random_tensor)\n",
    "max_pooled_tensor.shape\n"
   ]
  },
  {
   "cell_type": "code",
   "execution_count": 24,
   "id": "d6b01dc8-e42c-4901-980a-f5afe487b65f",
   "metadata": {},
   "outputs": [],
   "source": [
    "model_3 = FashionMnistModelV2(input_shape=1,\n",
    "                            hidden_units=8,\n",
    "                             output_shape=len(class_names)).to(device)"
   ]
  },
  {
   "cell_type": "code",
   "execution_count": 25,
   "id": "eed55c27-d85e-463d-a11a-a017edaeb0a1",
   "metadata": {},
   "outputs": [
    {
     "data": {
      "text/plain": [
       "torch.Size([1, 28, 28])"
      ]
     },
     "execution_count": 25,
     "metadata": {},
     "output_type": "execute_result"
    }
   ],
   "source": [
    "image,label = train_data[0]\n",
    "image.shape"
   ]
  },
  {
   "cell_type": "code",
   "execution_count": 26,
   "id": "81f18564-11ce-488b-b451-f22391e4b4bc",
   "metadata": {},
   "outputs": [
    {
     "name": "stdout",
     "output_type": "stream",
     "text": [
      "Image post Unsqueezee  : torch.Size([1, 1, 28, 28])\n",
      "Image size post conv : torch.Size([1, 10])\n"
     ]
    }
   ],
   "source": [
    "image = image.unsqueeze(dim=0)\n",
    "print(f\"Image post Unsqueezee  : {image.shape}\")\n",
    "res = model_3(image)\n",
    "print(f\"Image size post conv : {res.shape}\")"
   ]
  },
  {
   "cell_type": "markdown",
   "id": "faed2288-71e4-4b60-b1fa-5e609160cd89",
   "metadata": {},
   "source": [
    "### Setup loss_fn and optimizer"
   ]
  },
  {
   "cell_type": "code",
   "execution_count": 27,
   "id": "01417872-ab94-425d-9cc4-6bdc74c56426",
   "metadata": {},
   "outputs": [],
   "source": [
    "## Setup loss_fn and optimizer\n",
    "from helper_functions import accuracy_fn\n",
    "\n",
    "loss_fn = nn.CrossEntropyLoss()\n",
    "optimizer = torch.optim.Adam(params=model_3.parameters(), \n",
    "                            lr= 0.001)"
   ]
  },
  {
   "cell_type": "markdown",
   "id": "1d1f8b90-1b53-42ff-adb5-02f4b74f1e8a",
   "metadata": {},
   "source": [
    "### Training"
   ]
  },
  {
   "cell_type": "code",
   "execution_count": 28,
   "id": "0761ef99-66f7-4ce3-92da-fc296870493f",
   "metadata": {},
   "outputs": [
    {
     "name": "stderr",
     "output_type": "stream",
     "text": [
      "  0%|                                                                   | 0/10 [00:00<?, ?it/s]"
     ]
    },
    {
     "name": "stdout",
     "output_type": "stream",
     "text": [
      "Epoch : 0*************\n",
      "\n",
      "Looked at 0/ 60000 samples\n",
      "Looked at 12800/ 60000 samples\n",
      "Looked at 25600/ 60000 samples\n",
      "Looked at 38400/ 60000 samples\n",
      "Looked at 51200/ 60000 samples\n",
      "Train loss: 0.000163 | Train acc : 0.046691% \n",
      "\n"
     ]
    },
    {
     "name": "stderr",
     "output_type": "stream",
     "text": [
      "\n",
      "  0%|                                                                  | 0/313 [00:00<?, ?it/s]\u001b[A\n",
      " 14%|████████                                                | 45/313 [00:00<00:00, 442.97it/s]\u001b[A\n",
      " 29%|████████████████▎                                       | 91/313 [00:00<00:00, 447.84it/s]\u001b[A\n",
      " 44%|████████████████████████                               | 137/313 [00:00<00:00, 449.66it/s]\u001b[A\n",
      " 58%|████████████████████████████████▏                      | 183/313 [00:00<00:00, 450.81it/s]\u001b[A\n",
      " 73%|████████████████████████████████████████▏              | 229/313 [00:00<00:00, 450.65it/s]\u001b[A\n",
      "100%|███████████████████████████████████████████████████████| 313/313 [00:00<00:00, 451.71it/s]\u001b[A\n",
      " 10%|█████▉                                                     | 1/10 [00:20<03:08, 20.95s/it]"
     ]
    },
    {
     "name": "stdout",
     "output_type": "stream",
     "text": [
      "Test loss: 0.422092 | Test acc : 84.824281% \n",
      "\n",
      "Epoch : 1*************\n",
      "\n",
      "Looked at 0/ 60000 samples\n",
      "Looked at 12800/ 60000 samples\n",
      "Looked at 25600/ 60000 samples\n",
      "Looked at 38400/ 60000 samples\n",
      "Looked at 51200/ 60000 samples\n",
      "Train loss: 0.000227 | Train acc : 0.038360% \n",
      "\n"
     ]
    },
    {
     "name": "stderr",
     "output_type": "stream",
     "text": [
      "\n",
      "  0%|                                                                  | 0/313 [00:00<?, ?it/s]\u001b[A\n",
      " 15%|████████▏                                               | 46/313 [00:00<00:00, 455.03it/s]\u001b[A\n",
      " 29%|████████████████▍                                       | 92/313 [00:00<00:00, 452.92it/s]\u001b[A\n",
      " 44%|████████████████████████▏                              | 138/313 [00:00<00:00, 454.92it/s]\u001b[A\n",
      " 59%|████████████████████████████████▌                      | 185/313 [00:00<00:00, 457.32it/s]\u001b[A\n",
      " 74%|████████████████████████████████████████▌              | 231/313 [00:00<00:00, 454.91it/s]\u001b[A\n",
      "100%|███████████████████████████████████████████████████████| 313/313 [00:00<00:00, 455.45it/s]\u001b[A\n",
      " 20%|███████████▊                                               | 2/10 [00:41<02:47, 20.89s/it]"
     ]
    },
    {
     "name": "stdout",
     "output_type": "stream",
     "text": [
      "Test loss: 0.376856 | Test acc : 85.932508% \n",
      "\n",
      "Epoch : 2*************\n",
      "\n",
      "Looked at 0/ 60000 samples\n",
      "Looked at 12800/ 60000 samples\n",
      "Looked at 25600/ 60000 samples\n",
      "Looked at 38400/ 60000 samples\n",
      "Looked at 51200/ 60000 samples\n",
      "Train loss: 0.000132 | Train acc : 0.046693% \n",
      "\n"
     ]
    },
    {
     "name": "stderr",
     "output_type": "stream",
     "text": [
      "\n",
      "  0%|                                                                  | 0/313 [00:00<?, ?it/s]\u001b[A\n",
      " 14%|████████                                                | 45/313 [00:00<00:00, 449.30it/s]\u001b[A\n",
      " 29%|████████████████▎                                       | 91/313 [00:00<00:00, 450.22it/s]\u001b[A\n",
      " 44%|████████████████████████                               | 137/313 [00:00<00:00, 451.04it/s]\u001b[A\n",
      " 58%|████████████████████████████████▏                      | 183/313 [00:00<00:00, 450.97it/s]\u001b[A\n",
      " 73%|████████████████████████████████████████▏              | 229/313 [00:00<00:00, 451.36it/s]\u001b[A\n",
      "100%|███████████████████████████████████████████████████████| 313/313 [00:00<00:00, 452.30it/s]\u001b[A\n",
      " 30%|█████████████████▋                                         | 3/10 [01:02<02:26, 20.87s/it]"
     ]
    },
    {
     "name": "stdout",
     "output_type": "stream",
     "text": [
      "Test loss: 0.343294 | Test acc : 87.639776% \n",
      "\n",
      "Epoch : 3*************\n",
      "\n",
      "Looked at 0/ 60000 samples\n",
      "Looked at 12800/ 60000 samples\n",
      "Looked at 25600/ 60000 samples\n",
      "Looked at 38400/ 60000 samples\n",
      "Looked at 51200/ 60000 samples\n",
      "Train loss: 0.000204 | Train acc : 0.045028% \n",
      "\n"
     ]
    },
    {
     "name": "stderr",
     "output_type": "stream",
     "text": [
      "\n",
      "  0%|                                                                  | 0/313 [00:00<?, ?it/s]\u001b[A\n",
      " 14%|████████                                                | 45/313 [00:00<00:00, 446.26it/s]\u001b[A\n",
      " 29%|████████████████                                        | 90/313 [00:00<00:00, 448.27it/s]\u001b[A\n",
      " 43%|███████████████████████▉                               | 136/313 [00:00<00:00, 450.80it/s]\u001b[A\n",
      " 58%|███████████████████████████████▉                       | 182/313 [00:00<00:00, 444.38it/s]\u001b[A\n",
      " 73%|████████████████████████████████████████               | 228/313 [00:00<00:00, 448.54it/s]\u001b[A\n",
      "100%|███████████████████████████████████████████████████████| 313/313 [00:00<00:00, 450.54it/s]\u001b[A\n",
      " 40%|███████████████████████▌                                   | 4/10 [01:23<02:05, 20.89s/it]"
     ]
    },
    {
     "name": "stdout",
     "output_type": "stream",
     "text": [
      "Test loss: 0.319076 | Test acc : 88.518371% \n",
      "\n",
      "Epoch : 4*************\n",
      "\n",
      "Looked at 0/ 60000 samples\n",
      "Looked at 12800/ 60000 samples\n",
      "Looked at 25600/ 60000 samples\n",
      "Looked at 38400/ 60000 samples\n",
      "Looked at 51200/ 60000 samples\n",
      "Train loss: 0.000173 | Train acc : 0.045028% \n",
      "\n"
     ]
    },
    {
     "name": "stderr",
     "output_type": "stream",
     "text": [
      "\n",
      "  0%|                                                                  | 0/313 [00:00<?, ?it/s]\u001b[A\n",
      " 14%|████████                                                | 45/313 [00:00<00:00, 444.19it/s]\u001b[A\n",
      " 29%|████████████████▎                                       | 91/313 [00:00<00:00, 447.78it/s]\u001b[A\n",
      " 43%|███████████████████████▉                               | 136/313 [00:00<00:00, 447.06it/s]\u001b[A\n",
      " 58%|███████████████████████████████▉                       | 182/313 [00:00<00:00, 449.22it/s]\u001b[A\n",
      " 73%|████████████████████████████████████████               | 228/313 [00:00<00:00, 449.03it/s]\u001b[A\n",
      "100%|███████████████████████████████████████████████████████| 313/313 [00:00<00:00, 447.09it/s]\u001b[A\n",
      " 50%|█████████████████████████████▌                             | 5/10 [01:45<01:45, 21.10s/it]"
     ]
    },
    {
     "name": "stdout",
     "output_type": "stream",
     "text": [
      "Test loss: 0.302132 | Test acc : 89.057508% \n",
      "\n",
      "Epoch : 5*************\n",
      "\n",
      "Looked at 0/ 60000 samples\n",
      "Looked at 12800/ 60000 samples\n",
      "Looked at 25600/ 60000 samples\n",
      "Looked at 38400/ 60000 samples\n",
      "Looked at 51200/ 60000 samples\n",
      "Train loss: 0.000052 | Train acc : 0.051692% \n",
      "\n"
     ]
    },
    {
     "name": "stderr",
     "output_type": "stream",
     "text": [
      "\n",
      "  0%|                                                                  | 0/313 [00:00<?, ?it/s]\u001b[A\n",
      " 14%|████████                                                | 45/313 [00:00<00:00, 445.71it/s]\u001b[A\n",
      " 29%|████████████████▎                                       | 91/313 [00:00<00:00, 451.22it/s]\u001b[A\n",
      " 44%|████████████████████████                               | 137/313 [00:00<00:00, 450.82it/s]\u001b[A\n",
      " 58%|████████████████████████████████▏                      | 183/313 [00:00<00:00, 449.96it/s]\u001b[A\n",
      " 73%|████████████████████████████████████████▏              | 229/313 [00:00<00:00, 450.42it/s]\u001b[A\n",
      "100%|███████████████████████████████████████████████████████| 313/313 [00:00<00:00, 451.16it/s]\u001b[A\n",
      " 60%|███████████████████████████████████▍                       | 6/10 [02:07<01:26, 21.72s/it]"
     ]
    },
    {
     "name": "stdout",
     "output_type": "stream",
     "text": [
      "Test loss: 0.302686 | Test acc : 89.147364% \n",
      "\n",
      "Epoch : 6*************\n",
      "\n",
      "Looked at 0/ 60000 samples\n",
      "Looked at 12800/ 60000 samples\n",
      "Looked at 25600/ 60000 samples\n",
      "Looked at 38400/ 60000 samples\n",
      "Looked at 51200/ 60000 samples\n",
      "Train loss: 0.000098 | Train acc : 0.051692% \n",
      "\n"
     ]
    },
    {
     "name": "stderr",
     "output_type": "stream",
     "text": [
      "\n",
      "  0%|                                                                  | 0/313 [00:00<?, ?it/s]\u001b[A\n",
      " 14%|███████▊                                                | 44/313 [00:00<00:00, 430.11it/s]\u001b[A\n",
      " 28%|███████████████▉                                        | 89/313 [00:00<00:00, 436.82it/s]\u001b[A\n",
      " 43%|███████████████████████▌                               | 134/313 [00:00<00:00, 441.53it/s]\u001b[A\n",
      " 57%|███████████████████████████████▍                       | 179/313 [00:00<00:00, 443.42it/s]\u001b[A\n",
      " 72%|███████████████████████████████████████▎               | 224/313 [00:00<00:00, 445.12it/s]\u001b[A\n",
      " 86%|███████████████████████████████████████████████▎       | 269/313 [00:00<00:00, 436.60it/s]\u001b[A\n",
      "100%|███████████████████████████████████████████████████████| 313/313 [00:00<00:00, 437.47it/s]\u001b[A\n",
      " 70%|█████████████████████████████████████████▎                 | 7/10 [02:29<01:04, 21.56s/it]"
     ]
    },
    {
     "name": "stdout",
     "output_type": "stream",
     "text": [
      "Test loss: 0.290984 | Test acc : 89.716454% \n",
      "\n",
      "Epoch : 7*************\n",
      "\n",
      "Looked at 0/ 60000 samples\n",
      "Looked at 12800/ 60000 samples\n",
      "Looked at 25600/ 60000 samples\n",
      "Looked at 38400/ 60000 samples\n",
      "Looked at 51200/ 60000 samples\n",
      "Train loss: 0.000080 | Train acc : 0.050026% \n",
      "\n"
     ]
    },
    {
     "name": "stderr",
     "output_type": "stream",
     "text": [
      "\n",
      "  0%|                                                                  | 0/313 [00:00<?, ?it/s]\u001b[A\n",
      " 15%|████████▏                                               | 46/313 [00:00<00:00, 452.14it/s]\u001b[A\n",
      " 29%|████████████████▍                                       | 92/313 [00:00<00:00, 447.35it/s]\u001b[A\n",
      " 44%|████████████████████████▏                              | 138/313 [00:00<00:00, 449.39it/s]\u001b[A\n",
      " 58%|████████████████████████████████▏                      | 183/313 [00:00<00:00, 448.18it/s]\u001b[A\n",
      " 73%|████████████████████████████████████████               | 228/313 [00:00<00:00, 448.29it/s]\u001b[A\n",
      "100%|███████████████████████████████████████████████████████| 313/313 [00:00<00:00, 448.31it/s]\u001b[A\n",
      " 80%|███████████████████████████████████████████████▏           | 8/10 [02:50<00:42, 21.39s/it]"
     ]
    },
    {
     "name": "stdout",
     "output_type": "stream",
     "text": [
      "Test loss: 0.282286 | Test acc : 89.656550% \n",
      "\n",
      "Epoch : 8*************\n",
      "\n",
      "Looked at 0/ 60000 samples\n",
      "Looked at 12800/ 60000 samples\n",
      "Looked at 25600/ 60000 samples\n",
      "Looked at 38400/ 60000 samples\n",
      "Looked at 51200/ 60000 samples\n",
      "Train loss: 0.000182 | Train acc : 0.043358% \n",
      "\n"
     ]
    },
    {
     "name": "stderr",
     "output_type": "stream",
     "text": [
      "\n",
      "  0%|                                                                  | 0/313 [00:00<?, ?it/s]\u001b[A\n",
      " 14%|███████▊                                                | 44/313 [00:00<00:00, 437.71it/s]\u001b[A\n",
      " 28%|███████████████▋                                        | 88/313 [00:00<00:00, 435.42it/s]\u001b[A\n",
      " 42%|███████████████████████▎                               | 133/313 [00:00<00:00, 440.37it/s]\u001b[A\n",
      " 57%|███████████████████████████████▎                       | 178/313 [00:00<00:00, 443.60it/s]\u001b[A\n",
      " 71%|███████████████████████████████████████▏               | 223/313 [00:00<00:00, 445.77it/s]\u001b[A\n",
      "100%|███████████████████████████████████████████████████████| 313/313 [00:00<00:00, 443.36it/s]\u001b[A\n",
      " 90%|█████████████████████████████████████████████████████      | 9/10 [03:11<00:21, 21.29s/it]"
     ]
    },
    {
     "name": "stdout",
     "output_type": "stream",
     "text": [
      "Test loss: 0.281714 | Test acc : 90.155751% \n",
      "\n",
      "Epoch : 9*************\n",
      "\n",
      "Looked at 0/ 60000 samples\n",
      "Looked at 12800/ 60000 samples\n",
      "Looked at 25600/ 60000 samples\n",
      "Looked at 38400/ 60000 samples\n",
      "Looked at 51200/ 60000 samples\n",
      "Train loss: 0.000181 | Train acc : 0.045025% \n",
      "\n"
     ]
    },
    {
     "name": "stderr",
     "output_type": "stream",
     "text": [
      "\n",
      "  0%|                                                                  | 0/313 [00:00<?, ?it/s]\u001b[A\n",
      " 14%|███████▋                                                | 43/313 [00:00<00:00, 428.46it/s]\u001b[A\n",
      " 28%|███████████████▋                                        | 88/313 [00:00<00:00, 438.26it/s]\u001b[A\n",
      " 42%|███████████████████████▎                               | 133/313 [00:00<00:00, 439.41it/s]\u001b[A\n",
      " 57%|███████████████████████████████                        | 177/313 [00:00<00:00, 436.43it/s]\u001b[A\n",
      " 71%|███████████████████████████████████████                | 222/313 [00:00<00:00, 438.60it/s]\u001b[A\n",
      " 86%|███████████████████████████████████████████████        | 268/313 [00:00<00:00, 443.02it/s]\u001b[A\n",
      "100%|███████████████████████████████████████████████████████| 313/313 [00:00<00:00, 438.84it/s]\u001b[A\n",
      "100%|██████████████████████████████████████████████████████████| 10/10 [03:32<00:00, 21.20s/it]"
     ]
    },
    {
     "name": "stdout",
     "output_type": "stream",
     "text": [
      "Test loss: 0.295194 | Test acc : 89.606629% \n",
      "\n"
     ]
    },
    {
     "name": "stderr",
     "output_type": "stream",
     "text": [
      "\n"
     ]
    }
   ],
   "source": [
    "torch.manual_seed(42)\n",
    "\n",
    "from timeit import default_timer as timer\n",
    "start = timer()\n",
    "\n",
    "epochs = 10\n",
    "\n",
    "for epoch in tqdm(range(epochs)):\n",
    "    print(f\"Epoch : {epoch}*************\\n\")\n",
    "    train_step(model=model_3,\n",
    "              dataloader=train_dataloader,\n",
    "              loss_fn=loss_fn,\n",
    "              accuracy_fn=accuracy_fn,\n",
    "              optimizer=optimizer,\n",
    "              device=device)\n",
    "    test_step(model=model_3,\n",
    "             data_loader=test_dataloader,\n",
    "             loss_fn=loss_fn,\n",
    "             accuracy_fn = accuracy_fn,\n",
    "             device= device)"
   ]
  },
  {
   "cell_type": "code",
   "execution_count": null,
   "id": "70c90ef7-937c-427b-8b1a-00b8d7cb53b0",
   "metadata": {},
   "outputs": [],
   "source": []
  },
  {
   "cell_type": "code",
   "execution_count": 29,
   "id": "ea53d424-b7c3-4959-8b57-bf7545e358b3",
   "metadata": {},
   "outputs": [
    {
     "name": "stderr",
     "output_type": "stream",
     "text": [
      "100%|███████████████████████████████████████████████████████| 313/313 [00:00<00:00, 449.74it/s]\n"
     ]
    }
   ],
   "source": [
    "model_3_results = eval_model(model=model_3,\n",
    "                            data_loader=test_dataloader,\n",
    "                            loss_fn=loss_fn,\n",
    "                            accuracy_fn=accuracy_fn)"
   ]
  },
  {
   "cell_type": "code",
   "execution_count": 30,
   "id": "f5f04f2c-4389-42f3-ab0b-ee3d22af8d22",
   "metadata": {},
   "outputs": [
    {
     "data": {
      "text/plain": [
       "{'model_name': 'FashionMnistModelV2',\n",
       " 'model_loss': 0.2951941192150116,\n",
       " 'model_acc': 89.60662939297124}"
      ]
     },
     "execution_count": 30,
     "metadata": {},
     "output_type": "execute_result"
    }
   ],
   "source": [
    "model_3_results"
   ]
  },
  {
   "cell_type": "code",
   "execution_count": 31,
   "id": "62b44a58-af75-47a7-b17b-29972edad5cd",
   "metadata": {},
   "outputs": [
    {
     "data": {
      "text/plain": [
       "{'model_name': 'FashionMnistModelV1',\n",
       " 'model_loss': 0.9034186005592346,\n",
       " 'model_acc': 66.81309904153355}"
      ]
     },
     "execution_count": 31,
     "metadata": {},
     "output_type": "execute_result"
    }
   ],
   "source": [
    "model_1_results"
   ]
  },
  {
   "cell_type": "code",
   "execution_count": 32,
   "id": "3b789394-6403-4a9a-b8bb-2c3d62c8467c",
   "metadata": {},
   "outputs": [
    {
     "data": {
      "text/html": [
       "<div>\n",
       "<style scoped>\n",
       "    .dataframe tbody tr th:only-of-type {\n",
       "        vertical-align: middle;\n",
       "    }\n",
       "\n",
       "    .dataframe tbody tr th {\n",
       "        vertical-align: top;\n",
       "    }\n",
       "\n",
       "    .dataframe thead th {\n",
       "        text-align: right;\n",
       "    }\n",
       "</style>\n",
       "<table border=\"1\" class=\"dataframe\">\n",
       "  <thead>\n",
       "    <tr style=\"text-align: right;\">\n",
       "      <th></th>\n",
       "      <th>model_name</th>\n",
       "      <th>model_loss</th>\n",
       "      <th>model_acc</th>\n",
       "    </tr>\n",
       "  </thead>\n",
       "  <tbody>\n",
       "    <tr>\n",
       "      <th>0</th>\n",
       "      <td>FashionMnistModelV2</td>\n",
       "      <td>0.295194</td>\n",
       "      <td>89.606629</td>\n",
       "    </tr>\n",
       "    <tr>\n",
       "      <th>1</th>\n",
       "      <td>FashionMnistModelV1</td>\n",
       "      <td>0.903419</td>\n",
       "      <td>66.813099</td>\n",
       "    </tr>\n",
       "  </tbody>\n",
       "</table>\n",
       "</div>"
      ],
      "text/plain": [
       "            model_name  model_loss  model_acc\n",
       "0  FashionMnistModelV2    0.295194  89.606629\n",
       "1  FashionMnistModelV1    0.903419  66.813099"
      ]
     },
     "execution_count": 32,
     "metadata": {},
     "output_type": "execute_result"
    }
   ],
   "source": [
    "import pandas as pd\n",
    "compare_results = pd.DataFrame([model_3_results, model_1_results])\n",
    "compare_results"
   ]
  },
  {
   "cell_type": "markdown",
   "id": "e3957f48-8de4-46d1-a7a9-3a9b6375ce18",
   "metadata": {},
   "source": [
    "### make and evaluate random prediction on best model"
   ]
  },
  {
   "cell_type": "code",
   "execution_count": 33,
   "id": "34959912-c3e6-4f2b-a5f3-0f3b4e8ff3d5",
   "metadata": {},
   "outputs": [],
   "source": [
    "def make_pred(model: torch.nn.Module,\n",
    "             data : list,\n",
    "             device : torch.device = device):\n",
    "    pred_probs = []\n",
    "    model.to(device)\n",
    "    model.eval()\n",
    "    with torch.inference_mode():\n",
    "        for sample in data:\n",
    "            sample = torch.unsqueeze(sample, dim=0).to(device)\n",
    "            \n",
    "            # fwd pass\n",
    "            pred_logits = model(sample)\n",
    "            \n",
    "            # get preds\n",
    "            pred_prob = torch.softmax(pred_logits.squeeze(), dim =0)\n",
    "            \n",
    "            pred_probs.append(pred_prob.cpu())\n",
    "    return torch.stack(pred_probs)"
   ]
  },
  {
   "cell_type": "code",
   "execution_count": 34,
   "id": "7eaaf38a-775c-4531-8e52-f2a684bc6a44",
   "metadata": {},
   "outputs": [
    {
     "name": "stdout",
     "output_type": "stream",
     "text": [
      "Requirement already satisfied: mlxtend in /Users/amittomar/miniconda3/envs/denv/lib/python3.10/site-packages (0.21.0)\n",
      "Requirement already satisfied: joblib>=0.13.2 in /Users/amittomar/miniconda3/envs/denv/lib/python3.10/site-packages (from mlxtend) (1.2.0)\n",
      "Requirement already satisfied: scikit-learn>=1.0.2 in /Users/amittomar/miniconda3/envs/denv/lib/python3.10/site-packages (from mlxtend) (1.2.1)\n",
      "Requirement already satisfied: scipy>=1.2.1 in /Users/amittomar/miniconda3/envs/denv/lib/python3.10/site-packages (from mlxtend) (1.10.0)\n",
      "Requirement already satisfied: matplotlib>=3.0.0 in /Users/amittomar/miniconda3/envs/denv/lib/python3.10/site-packages (from mlxtend) (3.6.3)\n",
      "Requirement already satisfied: setuptools in /Users/amittomar/miniconda3/envs/denv/lib/python3.10/site-packages (from mlxtend) (65.6.3)\n",
      "Requirement already satisfied: pandas>=0.24.2 in /Users/amittomar/miniconda3/envs/denv/lib/python3.10/site-packages (from mlxtend) (1.5.3)\n",
      "Requirement already satisfied: numpy>=1.16.2 in /Users/amittomar/miniconda3/envs/denv/lib/python3.10/site-packages (from mlxtend) (1.24.1)\n",
      "Requirement already satisfied: cycler>=0.10 in /Users/amittomar/miniconda3/envs/denv/lib/python3.10/site-packages (from matplotlib>=3.0.0->mlxtend) (0.11.0)\n",
      "Requirement already satisfied: pyparsing>=2.2.1 in /Users/amittomar/miniconda3/envs/denv/lib/python3.10/site-packages (from matplotlib>=3.0.0->mlxtend) (3.0.9)\n",
      "Requirement already satisfied: contourpy>=1.0.1 in /Users/amittomar/miniconda3/envs/denv/lib/python3.10/site-packages (from matplotlib>=3.0.0->mlxtend) (1.0.7)\n",
      "Requirement already satisfied: fonttools>=4.22.0 in /Users/amittomar/miniconda3/envs/denv/lib/python3.10/site-packages (from matplotlib>=3.0.0->mlxtend) (4.38.0)\n",
      "Requirement already satisfied: pillow>=6.2.0 in /Users/amittomar/miniconda3/envs/denv/lib/python3.10/site-packages (from matplotlib>=3.0.0->mlxtend) (9.4.0)\n",
      "Requirement already satisfied: packaging>=20.0 in /Users/amittomar/.local/lib/python3.10/site-packages (from matplotlib>=3.0.0->mlxtend) (23.0)\n",
      "Requirement already satisfied: kiwisolver>=1.0.1 in /Users/amittomar/miniconda3/envs/denv/lib/python3.10/site-packages (from matplotlib>=3.0.0->mlxtend) (1.4.4)\n",
      "Requirement already satisfied: python-dateutil>=2.7 in /Users/amittomar/.local/lib/python3.10/site-packages (from matplotlib>=3.0.0->mlxtend) (2.8.2)\n",
      "Requirement already satisfied: pytz>=2020.1 in /Users/amittomar/miniconda3/envs/denv/lib/python3.10/site-packages (from pandas>=0.24.2->mlxtend) (2022.7.1)\n",
      "Requirement already satisfied: threadpoolctl>=2.0.0 in /Users/amittomar/miniconda3/envs/denv/lib/python3.10/site-packages (from scikit-learn>=1.0.2->mlxtend) (3.1.0)\n",
      "Requirement already satisfied: six>=1.5 in /Users/amittomar/.local/lib/python3.10/site-packages (from python-dateutil>=2.7->matplotlib>=3.0.0->mlxtend) (1.16.0)\n"
     ]
    }
   ],
   "source": [
    "!pip install mlxtend\n"
   ]
  },
  {
   "cell_type": "markdown",
   "id": "4dcda7fa-27b6-4875-aeb9-28784c53ab66",
   "metadata": {},
   "source": [
    "### make random predictions"
   ]
  },
  {
   "cell_type": "code",
   "execution_count": 70,
   "id": "20771b4d-b80e-4069-b593-157063ce18fe",
   "metadata": {},
   "outputs": [],
   "source": [
    "def make_preds(model: nn.Module,\n",
    "              data: list,\n",
    "              device: torch.device = device):\n",
    "    pred_probs= []\n",
    "    model.to(device)\n",
    "    model.eval()\n",
    "    with torch.inference_mode():\n",
    "        for sample in data:\n",
    "            sample = torch.unsqueeze(sample, dim=0).to(device)\n",
    "            # fwd pass\n",
    "            pred_logit = model(sample)\n",
    "            \n",
    "            # get prediction probabilty\n",
    "            \n",
    "            pred_prob = torch.softmax(pred_logit.squeeze(), dim=0)\n",
    "            \n",
    "            pred_probs.append(pred_prob)\n",
    "    return torch.stack(pred_probs)\n",
    "    "
   ]
  },
  {
   "cell_type": "code",
   "execution_count": 71,
   "id": "7c445259-1226-4461-8dca-64813f8d4fb6",
   "metadata": {},
   "outputs": [],
   "source": [
    "img, label = test_data[0]"
   ]
  },
  {
   "cell_type": "code",
   "execution_count": 106,
   "id": "a7a56079-37b0-43e0-85c9-909810f7759f",
   "metadata": {},
   "outputs": [
    {
     "data": {
      "text/plain": [
       "torch.Size([1, 28, 28])"
      ]
     },
     "execution_count": 106,
     "metadata": {},
     "output_type": "execute_result"
    }
   ],
   "source": [
    "import random\n",
    "# random.seed(42)\n",
    "test_samples = []\n",
    "test_labels = []\n",
    "for sample, label in random.sample(list(test_data),k=9):\n",
    "    test_samples.append(sample)\n",
    "    test_labels.append(label)\n",
    "\n",
    "test_samples[0].shape"
   ]
  },
  {
   "cell_type": "code",
   "execution_count": 107,
   "id": "a885a9f3-9357-4b1c-ba49-a56fd01d72a4",
   "metadata": {},
   "outputs": [
    {
     "data": {
      "text/plain": [
       "{0: 'T-shirt/top',\n",
       " 1: 'Trouser',\n",
       " 2: 'Pullover',\n",
       " 3: 'Dress',\n",
       " 4: 'Coat',\n",
       " 5: 'Sandal',\n",
       " 6: 'Shirt',\n",
       " 7: 'Sneaker',\n",
       " 8: 'Bag',\n",
       " 9: 'Ankle boot'}"
      ]
     },
     "execution_count": 107,
     "metadata": {},
     "output_type": "execute_result"
    }
   ],
   "source": [
    "#test_labels\n",
    "# class_names\n",
    "id_to_class"
   ]
  },
  {
   "cell_type": "code",
   "execution_count": null,
   "id": "2d1bc967-70e0-4aa0-93cb-88f33e236a27",
   "metadata": {},
   "outputs": [],
   "source": []
  },
  {
   "cell_type": "code",
   "execution_count": 108,
   "id": "31b23635-522d-4805-9e0d-166c591e1b9a",
   "metadata": {},
   "outputs": [
    {
     "data": {
      "text/plain": [
       "Text(0.5, 1.0, 'Pullover')"
      ]
     },
     "execution_count": 108,
     "metadata": {},
     "output_type": "execute_result"
    },
    {
     "data": {
      "image/png": "[encoded data removed]",
      "text/plain": [
       "<Figure size 640x480 with 1 Axes>"
      ]
     },
     "metadata": {},
     "output_type": "display_data"
    }
   ],
   "source": [
    "import matplotlib.pyplot as plt\n",
    "plt.imshow(test_samples[0].squeeze(dim=0), cmap=\"gray\")\n",
    "plt.title(id_to_class[test_labels[0]])"
   ]
  },
  {
   "cell_type": "code",
   "execution_count": 109,
   "id": "1c5586e0-5535-4799-81e2-69b77013d5b1",
   "metadata": {},
   "outputs": [
    {
     "data": {
      "text/plain": [
       "torch.Size([9, 10])"
      ]
     },
     "execution_count": 109,
     "metadata": {},
     "output_type": "execute_result"
    }
   ],
   "source": [
    "pred_probs = make_preds(model = model_3,\n",
    "                             data= test_samples)\n",
    "pred_probs.shape"
   ]
  },
  {
   "cell_type": "markdown",
   "id": "9daf3290-83ad-435e-be4f-3fa013a4416f",
   "metadata": {},
   "source": [
    "### convert prediction probablity to labels"
   ]
  },
  {
   "cell_type": "code",
   "execution_count": 110,
   "id": "bbe067ea-5df6-4a2e-9827-ee1c80a2f83c",
   "metadata": {},
   "outputs": [
    {
     "data": {
      "text/plain": [
       "tensor([2, 4, 4, 3, 2, 2, 0, 1, 1])"
      ]
     },
     "execution_count": 110,
     "metadata": {},
     "output_type": "execute_result"
    }
   ],
   "source": [
    "pred_classes = pred_probs.argmax(dim=1)\n",
    "pred_classes"
   ]
  },
  {
   "cell_type": "markdown",
   "id": "4940489a-6284-4650-9cf3-7bc0f6e2f381",
   "metadata": {},
   "source": [
    "### visualize"
   ]
  },
  {
   "cell_type": "code",
   "execution_count": 111,
   "id": "e504fdb5-96f3-4122-81a7-0ea7333150d4",
   "metadata": {},
   "outputs": [
    {
     "data": {
      "text/plain": [
       "(-0.5, 27.5, 27.5, -0.5)"
      ]
     },
     "execution_count": 111,
     "metadata": {},
     "output_type": "execute_result"
    },
    {
     "data": {
      "image/png": "[encoded data removed]",
      "text/plain": [
       "<Figure size 900x900 with 9 Axes>"
      ]
     },
     "metadata": {},
     "output_type": "display_data"
    }
   ],
   "source": [
    "plt.figure(figsize=(9,9))\n",
    "nrows =3\n",
    "ncols=3\n",
    "\n",
    "for i, sample in enumerate(test_samples):\n",
    "    \n",
    "    plt.subplot(nrows, ncols, i+1)\n",
    "    \n",
    "    plt.imshow(sample.squeeze(), cmap=\"gray\")\n",
    "    pred_classes[i]\n",
    "    \n",
    "    pred_label = id_to_class[pred_classes[i].item()]\n",
    "    \n",
    "    truth_label = id_to_class[test_labels[i]]\n",
    "    \n",
    "    title_text = f\"Pred: {pred_label} || Truth: {truth_label}\"\n",
    "    \n",
    "    if pred_label == truth_label:\n",
    "        plt.title(title_text, fontsize=10, c=\"g\")\n",
    "    else:\n",
    "        plt.title(title_text, fontsize=10, c=\"r\")\n",
    "plt.axis(False)"
   ]
  },
  {
   "cell_type": "markdown",
   "id": "2f961967-5372-4ac9-b2f2-41314fa32c1a",
   "metadata": {},
   "source": [
    "### confusion matrix for further evaluation"
   ]
  },
  {
   "cell_type": "code",
   "execution_count": null,
   "id": "de3c4e27-e52a-4a3e-9373-212d439b1cbb",
   "metadata": {},
   "outputs": [],
   "source": [
    "from torchmetrics import ConfusionMatrix\n",
    "from mlxtend.plotting import plot_confusion_matrix\n",
    "conf_mat = ConfusionMatrix(num_classes= len(class_names))\n",
    "confmat_tensor = conf_mat(preds = pred_classes)"
   ]
  },
  {
   "cell_type": "code",
   "execution_count": 114,
   "id": "51af4fbb-2adb-4a91-be01-1a10e6ec57b7",
   "metadata": {},
   "outputs": [
    {
     "name": "stderr",
     "output_type": "stream",
     "text": [
      "mAking predictions....: 100%|███████████████████████████████| 313/313 [00:00<00:00, 424.81it/s]\n"
     ]
    },
    {
     "data": {
      "text/plain": [
       "10000"
      ]
     },
     "execution_count": 114,
     "metadata": {},
     "output_type": "execute_result"
    }
   ],
   "source": [
    "from tqdm.auto import tqdm\n",
    "\n",
    "y_preds = []\n",
    "model_3.eval()\n",
    "with torch.inference_mode():\n",
    "    for X,y in tqdm(test_dataloader, desc =\"mAking predictions....\"):\n",
    "        \n",
    "        X,y = X.to(device), y.to(device)\n",
    "        \n",
    "        y_logits = model_3(X)\n",
    "        y_pred = torch.softmax(y_logits.squeeze(), dim=0).argmax(dim=1)\n",
    "        \n",
    "        y_preds.append(y_pred.cpu())\n",
    "\n",
    "y_pred_tensor = torch.cat(y_preds)\n",
    "y_pred_tensor\n",
    "len(y_pred_tensor)"
   ]
  },
  {
   "cell_type": "code",
   "execution_count": null,
   "id": "69e6f8be-dcf3-49d3-9841-ff5fe2381759",
   "metadata": {},
   "outputs": [],
   "source": []
  },
  {
   "cell_type": "code",
   "execution_count": null,
   "id": "743d68e3-a48d-469f-bf05-0f1041e49455",
   "metadata": {},
   "outputs": [],
   "source": []
  },
  {
   "cell_type": "code",
   "execution_count": null,
   "id": "f99ac62a-aa71-4948-b379-6fda98be3f8c",
   "metadata": {},
   "outputs": [],
   "source": []
  },
  {
   "cell_type": "code",
   "execution_count": null,
   "id": "4aaabc1d-e49a-4a03-a5d5-424f8acaf80e",
   "metadata": {},
   "outputs": [],
   "source": []
  },
  {
   "cell_type": "code",
   "execution_count": null,
   "id": "807d5b22-ce61-4dbd-b176-066615560959",
   "metadata": {},
   "outputs": [],
   "source": []
  },
  {
   "cell_type": "code",
   "execution_count": null,
   "id": "ae7fc8b6-3adc-45eb-a90e-28115c223552",
   "metadata": {},
   "outputs": [],
   "source": []
  },
  {
   "cell_type": "code",
   "execution_count": null,
   "id": "2e7d27af-9ed9-4c96-951f-031d65d5fa8d",
   "metadata": {},
   "outputs": [],
   "source": []
  },
  {
   "cell_type": "code",
   "execution_count": null,
   "id": "4fc7ba53-5eb7-4f2b-9b23-a7b8abf23a99",
   "metadata": {},
   "outputs": [],
   "source": []
  },
  {
   "cell_type": "code",
   "execution_count": null,
   "id": "0a8e597e-273f-4e06-9758-dffa9ac90ff6",
   "metadata": {},
   "outputs": [],
   "source": []
  },
  {
   "cell_type": "code",
   "execution_count": null,
   "id": "3531bc5a-991f-4f2b-82c5-415b8a71184c",
   "metadata": {},
   "outputs": [],
   "source": []
  }
 ],
 "metadata": {
  "kernelspec": {
   "display_name": "denv",
   "language": "python",
   "name": "denv"
  },
  "language_info": {
   "codemirror_mode": {
    "name": "ipython",
    "version": 3
   },
   "file_extension": ".py",
   "mimetype": "text/x-python",
   "name": "python",
   "nbconvert_exporter": "python",
   "pygments_lexer": "ipython3",
   "version": "3.10.9"
  }
 },
 "nbformat": 4,
 "nbformat_minor": 5
}
