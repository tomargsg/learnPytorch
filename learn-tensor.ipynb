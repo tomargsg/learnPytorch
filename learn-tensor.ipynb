{
 "cells": [
  {
   "cell_type": "code",
   "execution_count": 1,
   "id": "fcba33f7-fe7d-4ef5-84ff-7a7b82fd1e7c",
   "metadata": {},
   "outputs": [
    {
     "name": "stdout",
     "output_type": "stream",
     "text": [
      "1.13.1\n",
      "True\n",
      "True\n"
     ]
    }
   ],
   "source": [
    "import torch\n",
    "import pandas as pd\n",
    "import numpy as np\n",
    "import matplotlib.pyplot as plt\n",
    "print(torch.__version__)\n",
    "print(torch.backends.mps.is_available())\n",
    "print(torch.backends.mps.is_built())\n"
   ]
  },
  {
   "cell_type": "markdown",
   "id": "94ad6ca1-316d-4aa2-81a0-314aa8044935",
   "metadata": {},
   "source": [
    "## Scaler"
   ]
  },
  {
   "cell_type": "code",
   "execution_count": 2,
   "id": "bbad63c1-7e28-402c-9cca-8f8829324781",
   "metadata": {},
   "outputs": [
    {
     "data": {
      "text/plain": [
       "0"
      ]
     },
     "execution_count": 2,
     "metadata": {},
     "output_type": "execute_result"
    }
   ],
   "source": [
    "## scaler\n",
    "scaler = torch.tensor(7.0)\n",
    "scaler.ndim"
   ]
  },
  {
   "cell_type": "markdown",
   "id": "240a059c-cd3c-47d0-b0ff-0be7dee61a61",
   "metadata": {
    "tags": []
   },
   "source": [
    "## Vector"
   ]
  },
  {
   "cell_type": "code",
   "execution_count": 3,
   "id": "390226ba-a373-4ded-bade-0db6dda7f2b7",
   "metadata": {},
   "outputs": [
    {
     "data": {
      "text/plain": [
       "tensor([2, 3])"
      ]
     },
     "execution_count": 3,
     "metadata": {},
     "output_type": "execute_result"
    }
   ],
   "source": [
    "vector = torch.tensor((2,3))\n",
    "vector"
   ]
  },
  {
   "cell_type": "code",
   "execution_count": 4,
   "id": "88f2377a-f84b-4599-b207-39b5ab98e216",
   "metadata": {},
   "outputs": [
    {
     "data": {
      "text/plain": [
       "1"
      ]
     },
     "execution_count": 4,
     "metadata": {},
     "output_type": "execute_result"
    }
   ],
   "source": [
    "vector.ndim"
   ]
  },
  {
   "cell_type": "markdown",
   "id": "99c37ec7-d887-4a7a-ba95-52dc9ccd7885",
   "metadata": {},
   "source": [
    "## MATRIX"
   ]
  },
  {
   "cell_type": "code",
   "execution_count": 5,
   "id": "41939211-51e8-48fb-9085-aa686fbd6ccd",
   "metadata": {},
   "outputs": [
    {
     "data": {
      "text/plain": [
       "tensor([[2, 3],\n",
       "        [4, 5]])"
      ]
     },
     "execution_count": 5,
     "metadata": {},
     "output_type": "execute_result"
    }
   ],
   "source": [
    "MATRIX = torch.tensor([[2,3],[4,5]])\n",
    "MATRIX"
   ]
  },
  {
   "cell_type": "code",
   "execution_count": 6,
   "id": "10a85583-45f9-402a-b4de-10eee60eb2e8",
   "metadata": {},
   "outputs": [
    {
     "data": {
      "text/plain": [
       "2"
      ]
     },
     "execution_count": 6,
     "metadata": {},
     "output_type": "execute_result"
    }
   ],
   "source": [
    "MATRIX.ndim"
   ]
  },
  {
   "cell_type": "markdown",
   "id": "7cdfd48a-81b1-4460-a525-c08cea701b40",
   "metadata": {},
   "source": [
    "## TENSOR"
   ]
  },
  {
   "cell_type": "code",
   "execution_count": 7,
   "id": "5170462a-4281-40de-982b-ab2955194480",
   "metadata": {},
   "outputs": [
    {
     "data": {
      "text/plain": [
       "3"
      ]
     },
     "execution_count": 7,
     "metadata": {},
     "output_type": "execute_result"
    }
   ],
   "source": [
    "TENSOR = torch.tensor([[[1,2,3],\n",
    "                       [4,5,6],\n",
    "                       [7,8,9]]])\n",
    "TENSOR\n",
    "TENSOR.ndim"
   ]
  },
  {
   "cell_type": "code",
   "execution_count": 8,
   "id": "3b486b29-1a8d-49b2-a157-94eb8e7a9b07",
   "metadata": {},
   "outputs": [
    {
     "data": {
      "text/plain": [
       "torch.Size([1, 3, 3])"
      ]
     },
     "execution_count": 8,
     "metadata": {},
     "output_type": "execute_result"
    }
   ],
   "source": [
    "TENSOR.shape"
   ]
  },
  {
   "cell_type": "code",
   "execution_count": 9,
   "id": "41c1aaca-8909-4c4e-a7de-f231cb2de01b",
   "metadata": {},
   "outputs": [
    {
     "data": {
      "text/plain": [
       "tensor([[1, 2, 3],\n",
       "        [4, 5, 6],\n",
       "        [7, 8, 9]])"
      ]
     },
     "execution_count": 9,
     "metadata": {},
     "output_type": "execute_result"
    }
   ],
   "source": [
    "TENSOR[0]"
   ]
  },
  {
   "cell_type": "code",
   "execution_count": 10,
   "id": "0fa6817a-77f7-49c5-be2b-85c857aad25b",
   "metadata": {},
   "outputs": [
    {
     "data": {
      "text/plain": [
       "tensor([4, 5, 6])"
      ]
     },
     "execution_count": 10,
     "metadata": {},
     "output_type": "execute_result"
    }
   ],
   "source": [
    "TENSOR[0,1]"
   ]
  },
  {
   "cell_type": "code",
   "execution_count": 11,
   "id": "c86b14a2-a0d3-4a01-ba15-ef661fd4101b",
   "metadata": {},
   "outputs": [
    {
     "data": {
      "text/plain": [
       "tensor(9)"
      ]
     },
     "execution_count": 11,
     "metadata": {},
     "output_type": "execute_result"
    }
   ],
   "source": [
    "TENSOR[0,2,2]"
   ]
  },
  {
   "cell_type": "markdown",
   "id": "7e817e5f-5428-4a1b-9a88-5cf150209e03",
   "metadata": {},
   "source": [
    "## Random Tensors"
   ]
  },
  {
   "cell_type": "markdown",
   "id": "cd7ca0b2-341f-4217-be2e-e98fe520d8cc",
   "metadata": {},
   "source": [
    "`Random tensors are important to assign random weights to tensors and then adjust the weights`"
   ]
  },
  {
   "cell_type": "code",
   "execution_count": 12,
   "id": "38f69c72-749b-4b74-9650-9b439cdcfef7",
   "metadata": {},
   "outputs": [
    {
     "data": {
      "text/plain": [
       "tensor([[0.7799, 0.0519, 0.1381, 0.9221],\n",
       "        [0.4309, 0.7357, 0.1388, 0.5608],\n",
       "        [0.8780, 0.7696, 0.1859, 0.7478]])"
      ]
     },
     "execution_count": 12,
     "metadata": {},
     "output_type": "execute_result"
    }
   ],
   "source": [
    "#Create random tensors\n",
    "random = torch.rand(3,4)\n",
    "random"
   ]
  },
  {
   "cell_type": "code",
   "execution_count": 13,
   "id": "86e5a02a-9f11-40ff-b8cd-48a4d038b5b3",
   "metadata": {},
   "outputs": [
    {
     "data": {
      "text/plain": [
       "(2, torch.Size([3, 4]))"
      ]
     },
     "execution_count": 13,
     "metadata": {},
     "output_type": "execute_result"
    }
   ],
   "source": [
    "random.ndim, random.shape"
   ]
  },
  {
   "cell_type": "markdown",
   "id": "75c2cfdf-fe7c-4a3a-9407-3da4ddafba17",
   "metadata": {},
   "source": [
    "## ZEROs and ONES"
   ]
  },
  {
   "cell_type": "code",
   "execution_count": 14,
   "id": "b2e29ca8-c04d-4aec-a0e8-5fe2597ad416",
   "metadata": {},
   "outputs": [
    {
     "data": {
      "text/plain": [
       "tensor([[0., 0., 0.],\n",
       "        [0., 0., 0.],\n",
       "        [0., 0., 0.]])"
      ]
     },
     "execution_count": 14,
     "metadata": {},
     "output_type": "execute_result"
    }
   ],
   "source": [
    "zero = torch.zeros(size= (3,3))\n",
    "zero"
   ]
  },
  {
   "cell_type": "code",
   "execution_count": 15,
   "id": "658514e1-ad9d-481b-80f4-a421640b5d60",
   "metadata": {},
   "outputs": [
    {
     "data": {
      "text/plain": [
       "torch.Size([3, 3])"
      ]
     },
     "execution_count": 15,
     "metadata": {},
     "output_type": "execute_result"
    }
   ],
   "source": [
    "zero.shape"
   ]
  },
  {
   "cell_type": "code",
   "execution_count": 16,
   "id": "0a62dd8b-6b1c-4da0-a50e-96ed7b4cb685",
   "metadata": {},
   "outputs": [
    {
     "data": {
      "text/plain": [
       "2"
      ]
     },
     "execution_count": 16,
     "metadata": {},
     "output_type": "execute_result"
    }
   ],
   "source": [
    "zero.ndim"
   ]
  },
  {
   "cell_type": "markdown",
   "id": "efb1d599-e1c7-46a1-a2e5-28a07a72be09",
   "metadata": {},
   "source": [
    "## Create range of Tensors"
   ]
  },
  {
   "cell_type": "code",
   "execution_count": 17,
   "id": "a52ded78-5d23-4e7b-a36c-f069c1bda921",
   "metadata": {},
   "outputs": [
    {
     "data": {
      "text/plain": [
       "tensor([  0,  77, 154, 231, 308, 385, 462, 539, 616, 693, 770, 847, 924])"
      ]
     },
     "execution_count": 17,
     "metadata": {},
     "output_type": "execute_result"
    }
   ],
   "source": [
    "range = torch.arange(start=0, end=1000, step=77)\n",
    "range"
   ]
  },
  {
   "cell_type": "code",
   "execution_count": null,
   "id": "051f9534-cde7-4f36-ba83-2eec50806016",
   "metadata": {},
   "outputs": [],
   "source": []
  },
  {
   "cell_type": "code",
   "execution_count": 18,
   "id": "64a327ad-4139-47d9-97b6-b9cfbfc83034",
   "metadata": {},
   "outputs": [
    {
     "data": {
      "text/plain": [
       "1"
      ]
     },
     "execution_count": 18,
     "metadata": {},
     "output_type": "execute_result"
    }
   ],
   "source": [
    "range.ndim"
   ]
  },
  {
   "cell_type": "code",
   "execution_count": 19,
   "id": "f2bb77ea-043a-455a-954f-51fc3ab0a2df",
   "metadata": {},
   "outputs": [
    {
     "data": {
      "text/plain": [
       "torch.Size([13])"
      ]
     },
     "execution_count": 19,
     "metadata": {},
     "output_type": "execute_result"
    }
   ],
   "source": [
    "range.shape"
   ]
  },
  {
   "cell_type": "markdown",
   "id": "4a86436f-ec34-4bef-92b6-4ebd349f74ee",
   "metadata": {},
   "source": [
    "## Tensor data type"
   ]
  },
  {
   "cell_type": "code",
   "execution_count": 20,
   "id": "9b7d5bfc-f310-42bd-9dce-27f0a83dbc12",
   "metadata": {},
   "outputs": [
    {
     "data": {
      "text/plain": [
       "torch.float32"
      ]
     },
     "execution_count": 20,
     "metadata": {},
     "output_type": "execute_result"
    }
   ],
   "source": [
    "float_32_tensor = torch.tensor([1.0,2.0],\n",
    "                              dtype=None,\n",
    "                              requires_grad=False)\n",
    "float_32_tensor.dtype"
   ]
  },
  {
   "cell_type": "code",
   "execution_count": 21,
   "id": "e2c5d4fb-241c-4f39-aa16-1935ae330a40",
   "metadata": {},
   "outputs": [
    {
     "data": {
      "text/plain": [
       "torch.float16"
      ]
     },
     "execution_count": 21,
     "metadata": {},
     "output_type": "execute_result"
    }
   ],
   "source": [
    "float_16_tensor = float_32_tensor.type(torch.float16)\n",
    "float_16_tensor.dtype"
   ]
  },
  {
   "cell_type": "code",
   "execution_count": 22,
   "id": "3a4db260-11de-48b2-a874-bee778711594",
   "metadata": {},
   "outputs": [
    {
     "data": {
      "text/plain": [
       "tensor([1., 4.])"
      ]
     },
     "execution_count": 22,
     "metadata": {},
     "output_type": "execute_result"
    }
   ],
   "source": [
    "X = float_32_tensor * float_16_tensor\n",
    "X"
   ]
  },
  {
   "cell_type": "code",
   "execution_count": 23,
   "id": "56cdab0f-b1ad-416b-8e49-062676151f3e",
   "metadata": {},
   "outputs": [
    {
     "data": {
      "text/plain": [
       "torch.float32"
      ]
     },
     "execution_count": 23,
     "metadata": {},
     "output_type": "execute_result"
    }
   ],
   "source": [
    "X.dtype"
   ]
  },
  {
   "cell_type": "markdown",
   "id": "02774a27-0566-4498-8a49-8bbfe18d0676",
   "metadata": {},
   "source": [
    "### Getting information form tensors\n",
    " 1. Tensors are not of right datadype\n",
    " 2. Tensors are not shape\n",
    " 3. Tensors are not right device"
   ]
  },
  {
   "cell_type": "code",
   "execution_count": 24,
   "id": "a93db1b0-dca5-437d-8b48-806fe7ef1d92",
   "metadata": {},
   "outputs": [
    {
     "data": {
      "text/plain": [
       "tensor([[0.8097, 0.3727, 0.2250, 0.5617],\n",
       "        [0.1374, 0.5477, 0.7238, 0.0101],\n",
       "        [0.8997, 0.8300, 0.8380, 0.5044]])"
      ]
     },
     "execution_count": 24,
     "metadata": {},
     "output_type": "execute_result"
    }
   ],
   "source": [
    "some_tensor = torch.rand((3,4), device='cpu')\n",
    "some_tensor"
   ]
  },
  {
   "cell_type": "code",
   "execution_count": 25,
   "id": "581234db-231e-4b4e-acc0-575a7b572534",
   "metadata": {},
   "outputs": [
    {
     "name": "stdout",
     "output_type": "stream",
     "text": [
      "tensor([[0.8097, 0.3727, 0.2250, 0.5617],\n",
      "        [0.1374, 0.5477, 0.7238, 0.0101],\n",
      "        [0.8997, 0.8300, 0.8380, 0.5044]])\n",
      "Datatype of tensor : torch.float32\n",
      "Shape of tensor : torch.Size([3, 4])\n",
      "Device of tensor : cpu\n"
     ]
    }
   ],
   "source": [
    "#Find detail about tensors\n",
    "print(some_tensor)\n",
    "print(f\"Datatype of tensor : {some_tensor.dtype}\")\n",
    "print(f\"Shape of tensor : {some_tensor.shape}\")\n",
    "print(f\"Device of tensor : {some_tensor.device}\")"
   ]
  },
  {
   "cell_type": "markdown",
   "id": "56afd3ba-aeba-43b1-bb46-c58edb9bccf9",
   "metadata": {},
   "source": [
    "### Manipulating tensors (tensor operations)\n",
    "\n",
    "* Addidtion\n",
    "* Substraction\n",
    "* Multiplication (element wise)\n",
    "* division\n",
    "* Matrix Multiplication"
   ]
  },
  {
   "cell_type": "code",
   "execution_count": 26,
   "id": "8d7529e4-d602-4557-92bc-80e5f3139777",
   "metadata": {},
   "outputs": [
    {
     "data": {
      "text/plain": [
       "tensor([11, 12, 13, 14])"
      ]
     },
     "execution_count": 26,
     "metadata": {},
     "output_type": "execute_result"
    }
   ],
   "source": [
    "tensor = torch.tensor([1,2,3,4])\n",
    "tensor= tensor +10\n",
    "tensor"
   ]
  },
  {
   "cell_type": "code",
   "execution_count": 27,
   "id": "7fd18c7a-9e18-4a1b-8f61-482f470d241f",
   "metadata": {},
   "outputs": [
    {
     "data": {
      "text/plain": [
       "tensor([110, 120, 130, 140])"
      ]
     },
     "execution_count": 27,
     "metadata": {},
     "output_type": "execute_result"
    }
   ],
   "source": [
    "tensor *10"
   ]
  },
  {
   "cell_type": "code",
   "execution_count": 28,
   "id": "d171d1ec-e958-4017-bba6-48fe654e2170",
   "metadata": {},
   "outputs": [
    {
     "data": {
      "text/plain": [
       "tensor([1, 2, 3, 4])"
      ]
     },
     "execution_count": 28,
     "metadata": {},
     "output_type": "execute_result"
    }
   ],
   "source": [
    "tensor -10\n"
   ]
  },
  {
   "cell_type": "markdown",
   "id": "c6e3d388-3151-4467-b226-06002bebbb6c",
   "metadata": {},
   "source": [
    "## MATRIX Multiplication\n",
    "two main ways \n",
    "1. Element wise multiplication (Scaler multiplication)\n",
    "2. Matrix multiplication (Dot product)\n",
    "    1. Inner dimensions must match\n",
    "    2. Result will hav ethe shape of outer dimension"
   ]
  },
  {
   "cell_type": "code",
   "execution_count": 29,
   "id": "deb4808d-ea25-44aa-be51-fa89be999661",
   "metadata": {},
   "outputs": [
    {
     "name": "stdout",
     "output_type": "stream",
     "text": [
      "tensor([121, 144, 169, 196])\n"
     ]
    },
    {
     "data": {
      "text/plain": [
       "torch.int64"
      ]
     },
     "execution_count": 29,
     "metadata": {},
     "output_type": "execute_result"
    }
   ],
   "source": [
    "print(tensor * tensor)\n",
    "tensor.dtype"
   ]
  },
  {
   "cell_type": "code",
   "execution_count": 30,
   "id": "0cc68032-0b2b-45db-8e8d-fc9e8594eaad",
   "metadata": {},
   "outputs": [
    {
     "data": {
      "text/plain": [
       "tensor(630)"
      ]
     },
     "execution_count": 30,
     "metadata": {},
     "output_type": "execute_result"
    }
   ],
   "source": [
    " res = torch.matmul(tensor, tensor)\n",
    "tensor.shape\n",
    "tensor\n",
    "res"
   ]
  },
  {
   "cell_type": "markdown",
   "id": "fb127d6e-874a-456b-b38c-e4de0934d8d3",
   "metadata": {},
   "source": [
    "## Shape Errors while Matrix multiplication"
   ]
  },
  {
   "cell_type": "code",
   "execution_count": 31,
   "id": "ca7adfe8-fa11-4916-b0b2-a6dd38cc12f0",
   "metadata": {},
   "outputs": [],
   "source": [
    "tensor_A = torch.tensor([[1,2],\n",
    "                        [3,4],\n",
    "                        [5,6]])\n",
    "\n",
    "tensor_B = torch.tensor([[1,2],[3,4],[5,6]])"
   ]
  },
  {
   "cell_type": "code",
   "execution_count": 32,
   "id": "b1457f40-384f-47b8-984b-acf98c31a971",
   "metadata": {},
   "outputs": [
    {
     "name": "stdout",
     "output_type": "stream",
     "text": [
      "tensorA shape {torch.Size([3, 2])}\n"
     ]
    }
   ],
   "source": [
    "print(f'tensorA shape', {tensor_A.shape})"
   ]
  },
  {
   "cell_type": "code",
   "execution_count": 33,
   "id": "a68043eb-8316-4427-b26f-20920b1ac859",
   "metadata": {},
   "outputs": [
    {
     "name": "stdout",
     "output_type": "stream",
     "text": [
      "tensor_B shape {torch.Size([3, 2])}\n"
     ]
    }
   ],
   "source": [
    "print(f'tensor_B shape',{tensor_B.shape})"
   ]
  },
  {
   "cell_type": "code",
   "execution_count": 34,
   "id": "0a9c2d38-3249-4372-987c-d79382c121cf",
   "metadata": {},
   "outputs": [
    {
     "data": {
      "text/plain": [
       "torch.Size([2, 3])"
      ]
     },
     "execution_count": 34,
     "metadata": {},
     "output_type": "execute_result"
    }
   ],
   "source": [
    "# will error\n",
    "#X = torch.matmul(tensor_A, tensor_B) \n",
    "\n",
    "transpose_B = tensor_B.T\n",
    "transpose_B.shape\n"
   ]
  },
  {
   "cell_type": "code",
   "execution_count": 35,
   "id": "0d79f8ad-9761-4538-8222-e1da93bb0023",
   "metadata": {},
   "outputs": [
    {
     "data": {
      "text/plain": [
       "tensor([[ 5, 11, 17],\n",
       "        [11, 25, 39],\n",
       "        [17, 39, 61]])"
      ]
     },
     "execution_count": 35,
     "metadata": {},
     "output_type": "execute_result"
    }
   ],
   "source": [
    "X = torch.matmul(tensor_A, transpose_B)\n",
    "X"
   ]
  },
  {
   "cell_type": "markdown",
   "id": "ba2c9f88-8687-4bf0-af9f-c58589d73e69",
   "metadata": {},
   "source": [
    "### Finding min, max, mean, Sum (Tensor aggregation)"
   ]
  },
  {
   "cell_type": "code",
   "execution_count": 36,
   "id": "cc2b778a-743f-4d20-ba9c-df6f02b34309",
   "metadata": {},
   "outputs": [
    {
     "data": {
      "text/plain": [
       "tensor([10, 20, 30, 40, 50, 60, 70, 80, 90])"
      ]
     },
     "execution_count": 36,
     "metadata": {},
     "output_type": "execute_result"
    }
   ],
   "source": [
    "x = torch.arange(10,100,10)\n",
    "x"
   ]
  },
  {
   "cell_type": "code",
   "execution_count": 37,
   "id": "91dd38bf-2309-46ca-8614-e17ca5d33b24",
   "metadata": {},
   "outputs": [
    {
     "data": {
      "text/plain": [
       "tensor(50.)"
      ]
     },
     "execution_count": 37,
     "metadata": {},
     "output_type": "execute_result"
    }
   ],
   "source": [
    "Y = torch.mean(x.type(torch.float32))\n",
    "Y"
   ]
  },
  {
   "cell_type": "code",
   "execution_count": 38,
   "id": "9eb6a6a7-3ebe-4a33-8ea8-aea19c351409",
   "metadata": {},
   "outputs": [
    {
     "data": {
      "text/plain": [
       "tensor(450)"
      ]
     },
     "execution_count": 38,
     "metadata": {},
     "output_type": "execute_result"
    }
   ],
   "source": [
    "x.sum()\n",
    "sum = torch.sum(x)\n",
    "sum"
   ]
  },
  {
   "cell_type": "code",
   "execution_count": 39,
   "id": "a809114e-ce4e-42e9-8c28-0172469a3264",
   "metadata": {},
   "outputs": [
    {
     "data": {
      "text/plain": [
       "tensor(90)"
      ]
     },
     "execution_count": 39,
     "metadata": {},
     "output_type": "execute_result"
    }
   ],
   "source": [
    "max = torch.max(x)\n",
    "max"
   ]
  },
  {
   "cell_type": "markdown",
   "id": "7995db7a-016f-444a-8d2a-d818b2fcd4ed",
   "metadata": {},
   "source": [
    "### Find the positional min and max"
   ]
  },
  {
   "cell_type": "code",
   "execution_count": 40,
   "id": "2214eb0d-3a13-4d57-b175-15b832a8cf22",
   "metadata": {},
   "outputs": [
    {
     "data": {
      "text/plain": [
       "tensor(0)"
      ]
     },
     "execution_count": 40,
     "metadata": {},
     "output_type": "execute_result"
    }
   ],
   "source": [
    "min_pos = torch.argmin(x)\n",
    "min_pos"
   ]
  },
  {
   "cell_type": "code",
   "execution_count": 41,
   "id": "fa9b5fe4-7655-4737-8dc4-13d6c30615cf",
   "metadata": {},
   "outputs": [
    {
     "data": {
      "text/plain": [
       "tensor(8)"
      ]
     },
     "execution_count": 41,
     "metadata": {},
     "output_type": "execute_result"
    }
   ],
   "source": [
    "max_pos = torch.argmax(x)\n",
    "max_pos"
   ]
  },
  {
   "cell_type": "markdown",
   "id": "062f42f2-3aa5-4f54-8c59-0de601b9388a",
   "metadata": {},
   "source": [
    "### Reshaping stacking, squeezing and unsqueezing tensors\n",
    "\n",
    "* Reshaping\n",
    "* Squeeze remove all `1` dimension from a tensor \n",
    "* UnSqueeze add a `1` dimension from a tensor "
   ]
  },
  {
   "cell_type": "code",
   "execution_count": 42,
   "id": "27bc129b-0ad8-4d20-a2fb-17ba901e64c0",
   "metadata": {},
   "outputs": [
    {
     "data": {
      "text/plain": [
       "(tensor([1., 2., 3., 4., 5., 6., 7., 8., 9.]), torch.Size([9]))"
      ]
     },
     "execution_count": 42,
     "metadata": {},
     "output_type": "execute_result"
    }
   ],
   "source": [
    "import torch\n",
    "x = torch.arange(1.,10.)\n",
    "x, x.shape"
   ]
  },
  {
   "cell_type": "code",
   "execution_count": 43,
   "id": "d7d71cff-0e4d-4754-b355-e1a67f2a2237",
   "metadata": {},
   "outputs": [
    {
     "data": {
      "text/plain": [
       "(tensor([[1., 2., 3., 4., 5., 6., 7., 8., 9.]]), torch.Size([1, 9]))"
      ]
     },
     "execution_count": 43,
     "metadata": {},
     "output_type": "execute_result"
    }
   ],
   "source": [
    "x_reshaped = x.reshape(1,9)\n",
    "x_reshaped, x_reshaped.shape"
   ]
  },
  {
   "cell_type": "code",
   "execution_count": 44,
   "id": "85f0f05a-5fed-4778-9c81-7c99acaa3321",
   "metadata": {},
   "outputs": [
    {
     "data": {
      "text/plain": [
       "(tensor([[1.],\n",
       "         [2.],\n",
       "         [3.],\n",
       "         [4.],\n",
       "         [5.],\n",
       "         [6.],\n",
       "         [7.],\n",
       "         [8.],\n",
       "         [9.]]),\n",
       " tensor([1., 2., 3., 4., 5., 6., 7., 8., 9.]))"
      ]
     },
     "execution_count": 44,
     "metadata": {},
     "output_type": "execute_result"
    }
   ],
   "source": [
    "#change the view\n",
    "z = x.view(9,1)\n",
    "z, x\n"
   ]
  },
  {
   "cell_type": "code",
   "execution_count": 45,
   "id": "1ea3df72-0fee-45ae-a789-76acd56e7ebf",
   "metadata": {},
   "outputs": [
    {
     "data": {
      "text/plain": [
       "tensor([[1., 1., 1., 1.],\n",
       "        [2., 2., 2., 2.],\n",
       "        [3., 3., 3., 3.],\n",
       "        [4., 4., 4., 4.],\n",
       "        [5., 5., 5., 5.],\n",
       "        [6., 6., 6., 6.],\n",
       "        [7., 7., 7., 7.],\n",
       "        [8., 8., 8., 8.],\n",
       "        [9., 9., 9., 9.]])"
      ]
     },
     "execution_count": 45,
     "metadata": {},
     "output_type": "execute_result"
    }
   ],
   "source": [
    "x_stacked = torch.stack([x,x,x,x], dim=1)\n",
    "x_stacked"
   ]
  },
  {
   "cell_type": "markdown",
   "id": "486a7c11-0294-42e5-b9f8-ff24443dd0f2",
   "metadata": {},
   "source": [
    "### Squueze"
   ]
  },
  {
   "cell_type": "code",
   "execution_count": 46,
   "id": "a3db0be3-81af-4b4e-8dc6-eb950cee36ff",
   "metadata": {},
   "outputs": [
    {
     "data": {
      "text/plain": [
       "(torch.Size([1, 9]), torch.Size([9]))"
      ]
     },
     "execution_count": 46,
     "metadata": {},
     "output_type": "execute_result"
    }
   ],
   "source": [
    "\n",
    "x_reshaped.shape\n",
    "y= x_reshaped.squeeze()\n",
    "x_reshaped.shape ,y.shape"
   ]
  },
  {
   "cell_type": "code",
   "execution_count": 47,
   "id": "aed18740-4f20-415e-983e-effb3ddac3f2",
   "metadata": {},
   "outputs": [
    {
     "data": {
      "text/plain": [
       "(tensor([[1., 2., 3., 4., 5., 6., 7., 8., 9.]]), torch.Size([1, 9]))"
      ]
     },
     "execution_count": 47,
     "metadata": {},
     "output_type": "execute_result"
    }
   ],
   "source": [
    "x_unsquezze = y.unsqueeze(dim=0)\n",
    "x_unsquezze ,x_unsquezze.shape"
   ]
  },
  {
   "cell_type": "markdown",
   "id": "02181599-2cb7-43cb-bfbe-5b60c871ab56",
   "metadata": {},
   "source": [
    "### torch permute"
   ]
  },
  {
   "cell_type": "code",
   "execution_count": 56,
   "id": "95adfc92-ce40-438d-b01f-0802ced8e8d8",
   "metadata": {},
   "outputs": [
    {
     "data": {
      "text/plain": [
       "torch.Size([3, 224, 224])"
      ]
     },
     "execution_count": 56,
     "metadata": {},
     "output_type": "execute_result"
    }
   ],
   "source": [
    "x_orig = torch.rand( size = (224,224,3))\n",
    "x_orig.shape\n",
    "x_permute = x_orig.permute(2,0,1)\n",
    "x_permute.shape\n",
    "\n"
   ]
  },
  {
   "cell_type": "markdown",
   "id": "ea7df646-7b40-4628-8d70-86893dfd792a",
   "metadata": {},
   "source": [
    "### numpy and tensors"
   ]
  },
  {
   "cell_type": "code",
   "execution_count": 58,
   "id": "c9cc5044-7d8d-4877-9d08-237857e41f5e",
   "metadata": {},
   "outputs": [
    {
     "data": {
      "text/plain": [
       "tensor([1., 2., 3., 4., 5., 6., 7.], dtype=torch.float64)"
      ]
     },
     "execution_count": 58,
     "metadata": {},
     "output_type": "execute_result"
    }
   ],
   "source": [
    "import torch\n",
    "import numpy as np\n",
    "\n",
    "array = np.arange(1.0,8.0)\n",
    "tensor = torch.from_numpy(array)\n",
    "tensor"
   ]
  },
  {
   "cell_type": "code",
   "execution_count": 54,
   "id": "a21b408a-5d8e-40d3-a819-812c50df7893",
   "metadata": {},
   "outputs": [
    {
     "data": {
      "text/plain": [
       "(tensor([1., 1., 1., 1., 1., 1., 1.]), torch.float32)"
      ]
     },
     "execution_count": 54,
     "metadata": {},
     "output_type": "execute_result"
    }
   ],
   "source": [
    "tensor = torch.ones(7)\n",
    "tensor, tensor.dtype"
   ]
  },
  {
   "cell_type": "code",
   "execution_count": 60,
   "id": "4828bef0-07b9-4dbc-bdd3-6642b003739e",
   "metadata": {},
   "outputs": [
    {
     "data": {
      "text/plain": [
       "array([1., 2., 3., 4., 5., 6., 7.])"
      ]
     },
     "execution_count": 60,
     "metadata": {},
     "output_type": "execute_result"
    }
   ],
   "source": [
    "numpy_tensor = tensor.numpy()\n",
    "numpy_tensor"
   ]
  },
  {
   "cell_type": "markdown",
   "id": "97c606ed-d39c-417d-9889-a85696cf8d00",
   "metadata": {},
   "source": [
    "### Reproducbility in torch\n",
    "In Short How Neural network learn\n",
    "\n",
    "`start with some randome numbers  -> tensor operation -> update randome numbers -> again -> again ....`\n",
    "To reduce the randomness in neural networks use Random seed"
   ]
  },
  {
   "cell_type": "code",
   "execution_count": 65,
   "id": "312eb6c8-70f7-4b35-97dc-84fc6ab79a43",
   "metadata": {},
   "outputs": [
    {
     "name": "stdout",
     "output_type": "stream",
     "text": [
      "tensor([[False, False, False, False],\n",
      "        [False, False, False, False],\n",
      "        [False, False, False, False]])\n"
     ]
    }
   ],
   "source": [
    "import torch\n",
    "\n",
    "RANDOM_SEED = 42\n",
    "\n",
    "rt_A = torch.rand(3,4)\n",
    "rt_B = torch.rand(3,4)\n",
    "print(rt_A == rt_B)"
   ]
  },
  {
   "cell_type": "code",
   "execution_count": 69,
   "id": "aa7f8b82-029e-43e3-96ff-13aa5b0dc6d5",
   "metadata": {},
   "outputs": [
    {
     "name": "stdout",
     "output_type": "stream",
     "text": [
      "tensor([[True, True, True, True],\n",
      "        [True, True, True, True],\n",
      "        [True, True, True, True]])\n"
     ]
    }
   ],
   "source": [
    "torch.manual_seed(RANDOM_SEED)\n",
    "rt_C = torch.rand(3,4)\n",
    "torch.manual_seed(RANDOM_SEED)\n",
    "rt_D = torch.rand(3,4)\n",
    "print(rt_C == rt_D)"
   ]
  },
  {
   "cell_type": "markdown",
   "id": "95ac9500-8a99-4974-8c42-5f4b395a5e2d",
   "metadata": {},
   "source": [
    "### Runing Tensors and pytorch on GPUs(faster coputation)\n",
    "\n",
    "   1. Getting a gpu.\n",
    "   2. Use google colab for free gpu.\n",
    "   3. Use cloud computing`"
   ]
  },
  {
   "cell_type": "code",
   "execution_count": 76,
   "id": "2d38cf63-a4e5-40dd-8814-46a0a8b33481",
   "metadata": {},
   "outputs": [],
   "source": [
    "import torch\n",
    "#set the code device agnostic.\n",
    "device = \"cuda\" if torch.cuda.is_available() else \"cpu\""
   ]
  },
  {
   "cell_type": "code",
   "execution_count": null,
   "id": "201cec11-62af-4ee7-ade9-63caeacb2c7c",
   "metadata": {},
   "outputs": [],
   "source": []
  },
  {
   "cell_type": "code",
   "execution_count": null,
   "id": "6261135d-8811-49f4-8983-46455e67d724",
   "metadata": {},
   "outputs": [],
   "source": []
  }
 ],
 "metadata": {
  "kernelspec": {
   "display_name": "denv",
   "language": "python",
   "name": "denv"
  },
  "language_info": {
   "codemirror_mode": {
    "name": "ipython",
    "version": 3
   },
   "file_extension": ".py",
   "mimetype": "text/x-python",
   "name": "python",
   "nbconvert_exporter": "python",
   "pygments_lexer": "ipython3",
   "version": "3.10.9"
  }
 },
 "nbformat": 4,
 "nbformat_minor": 5
}
