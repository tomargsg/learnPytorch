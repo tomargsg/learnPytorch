{
 "cells": [
  {
   "cell_type": "code",
   "execution_count": 1,
   "id": "fcba33f7-fe7d-4ef5-84ff-7a7b82fd1e7c",
   "metadata": {},
   "outputs": [
    {
     "name": "stdout",
     "output_type": "stream",
     "text": [
      "1.13.1\n",
      "True\n",
      "True\n"
     ]
    }
   ],
   "source": [
    "import torch\n",
    "import pandas as pd\n",
    "import numpy as np\n",
    "import matplotlib.pyplot as plt\n",
    "print(torch.__version__)\n",
    "print(torch.backends.mps.is_available())\n",
    "print(torch.backends.mps.is_built())\n"
   ]
  },
  {
   "cell_type": "markdown",
   "id": "94ad6ca1-316d-4aa2-81a0-314aa8044935",
   "metadata": {},
   "source": [
    "## Scaler"
   ]
  },
  {
   "cell_type": "code",
   "execution_count": 2,
   "id": "bbad63c1-7e28-402c-9cca-8f8829324781",
   "metadata": {},
   "outputs": [
    {
     "data": {
      "text/plain": [
       "0"
      ]
     },
     "execution_count": 2,
     "metadata": {},
     "output_type": "execute_result"
    }
   ],
   "source": [
    "## scaler\n",
    "scaler = torch.tensor(7.0)\n",
    "scaler.ndim"
   ]
  },
  {
   "cell_type": "markdown",
   "id": "240a059c-cd3c-47d0-b0ff-0be7dee61a61",
   "metadata": {
    "tags": []
   },
   "source": [
    "## Vector"
   ]
  },
  {
   "cell_type": "code",
   "execution_count": 3,
   "id": "390226ba-a373-4ded-bade-0db6dda7f2b7",
   "metadata": {},
   "outputs": [
    {
     "data": {
      "text/plain": [
       "tensor([2, 3])"
      ]
     },
     "execution_count": 3,
     "metadata": {},
     "output_type": "execute_result"
    }
   ],
   "source": [
    "vector = torch.tensor((2,3))\n",
    "vector"
   ]
  },
  {
   "cell_type": "code",
   "execution_count": 4,
   "id": "88f2377a-f84b-4599-b207-39b5ab98e216",
   "metadata": {},
   "outputs": [
    {
     "data": {
      "text/plain": [
       "1"
      ]
     },
     "execution_count": 4,
     "metadata": {},
     "output_type": "execute_result"
    }
   ],
   "source": [
    "vector.ndim"
   ]
  },
  {
   "cell_type": "markdown",
   "id": "99c37ec7-d887-4a7a-ba95-52dc9ccd7885",
   "metadata": {},
   "source": [
    "## MATRIX"
   ]
  },
  {
   "cell_type": "code",
   "execution_count": 5,
   "id": "41939211-51e8-48fb-9085-aa686fbd6ccd",
   "metadata": {},
   "outputs": [
    {
     "data": {
      "text/plain": [
       "tensor([[2, 3],\n",
       "        [4, 5]])"
      ]
     },
     "execution_count": 5,
     "metadata": {},
     "output_type": "execute_result"
    }
   ],
   "source": [
    "MATRIX = torch.tensor([[2,3],[4,5]])\n",
    "MATRIX"
   ]
  },
  {
   "cell_type": "code",
   "execution_count": 6,
   "id": "10a85583-45f9-402a-b4de-10eee60eb2e8",
   "metadata": {},
   "outputs": [
    {
     "data": {
      "text/plain": [
       "2"
      ]
     },
     "execution_count": 6,
     "metadata": {},
     "output_type": "execute_result"
    }
   ],
   "source": [
    "MATRIX.ndim"
   ]
  },
  {
   "cell_type": "markdown",
   "id": "7cdfd48a-81b1-4460-a525-c08cea701b40",
   "metadata": {},
   "source": [
    "## TENSOR"
   ]
  },
  {
   "cell_type": "code",
   "execution_count": 7,
   "id": "5170462a-4281-40de-982b-ab2955194480",
   "metadata": {},
   "outputs": [
    {
     "data": {
      "text/plain": [
       "3"
      ]
     },
     "execution_count": 7,
     "metadata": {},
     "output_type": "execute_result"
    }
   ],
   "source": [
    "TENSOR = torch.tensor([[[1,2,3],\n",
    "                       [4,5,6],\n",
    "                       [7,8,9]]])\n",
    "TENSOR\n",
    "TENSOR.ndim"
   ]
  },
  {
   "cell_type": "code",
   "execution_count": 8,
   "id": "3b486b29-1a8d-49b2-a157-94eb8e7a9b07",
   "metadata": {},
   "outputs": [
    {
     "data": {
      "text/plain": [
       "torch.Size([1, 3, 3])"
      ]
     },
     "execution_count": 8,
     "metadata": {},
     "output_type": "execute_result"
    }
   ],
   "source": [
    "TENSOR.shape"
   ]
  },
  {
   "cell_type": "code",
   "execution_count": 9,
   "id": "41c1aaca-8909-4c4e-a7de-f231cb2de01b",
   "metadata": {},
   "outputs": [
    {
     "data": {
      "text/plain": [
       "tensor([[1, 2, 3],\n",
       "        [4, 5, 6],\n",
       "        [7, 8, 9]])"
      ]
     },
     "execution_count": 9,
     "metadata": {},
     "output_type": "execute_result"
    }
   ],
   "source": [
    "TENSOR[0]"
   ]
  },
  {
   "cell_type": "code",
   "execution_count": 10,
   "id": "0fa6817a-77f7-49c5-be2b-85c857aad25b",
   "metadata": {},
   "outputs": [
    {
     "data": {
      "text/plain": [
       "tensor([4, 5, 6])"
      ]
     },
     "execution_count": 10,
     "metadata": {},
     "output_type": "execute_result"
    }
   ],
   "source": [
    "TENSOR[0,1]"
   ]
  },
  {
   "cell_type": "code",
   "execution_count": 11,
   "id": "c86b14a2-a0d3-4a01-ba15-ef661fd4101b",
   "metadata": {},
   "outputs": [
    {
     "data": {
      "text/plain": [
       "tensor(9)"
      ]
     },
     "execution_count": 11,
     "metadata": {},
     "output_type": "execute_result"
    }
   ],
   "source": [
    "TENSOR[0,2,2]"
   ]
  },
  {
   "cell_type": "markdown",
   "id": "7e817e5f-5428-4a1b-9a88-5cf150209e03",
   "metadata": {},
   "source": [
    "## Random Tensors"
   ]
  },
  {
   "cell_type": "markdown",
   "id": "cd7ca0b2-341f-4217-be2e-e98fe520d8cc",
   "metadata": {},
   "source": [
    "`Random tensors are important to assign random weights to tensors and then adjust the weights`"
   ]
  },
  {
   "cell_type": "code",
   "execution_count": 12,
   "id": "38f69c72-749b-4b74-9650-9b439cdcfef7",
   "metadata": {},
   "outputs": [
    {
     "data": {
      "text/plain": [
       "tensor([[0.5395, 0.8900, 0.1530, 0.5618],\n",
       "        [0.5013, 0.0213, 0.2795, 0.1295],\n",
       "        [0.9898, 0.2382, 0.2565, 0.1389]])"
      ]
     },
     "execution_count": 12,
     "metadata": {},
     "output_type": "execute_result"
    }
   ],
   "source": [
    "#Create random tensors\n",
    "random = torch.rand(3,4)\n",
    "random"
   ]
  },
  {
   "cell_type": "code",
   "execution_count": 13,
   "id": "86e5a02a-9f11-40ff-b8cd-48a4d038b5b3",
   "metadata": {},
   "outputs": [
    {
     "data": {
      "text/plain": [
       "(2, torch.Size([3, 4]))"
      ]
     },
     "execution_count": 13,
     "metadata": {},
     "output_type": "execute_result"
    }
   ],
   "source": [
    "random.ndim, random.shape"
   ]
  },
  {
   "cell_type": "markdown",
   "id": "75c2cfdf-fe7c-4a3a-9407-3da4ddafba17",
   "metadata": {},
   "source": [
    "## ZEROs and ONES"
   ]
  },
  {
   "cell_type": "code",
   "execution_count": 14,
   "id": "b2e29ca8-c04d-4aec-a0e8-5fe2597ad416",
   "metadata": {},
   "outputs": [
    {
     "data": {
      "text/plain": [
       "tensor([[0., 0., 0.],\n",
       "        [0., 0., 0.],\n",
       "        [0., 0., 0.]])"
      ]
     },
     "execution_count": 14,
     "metadata": {},
     "output_type": "execute_result"
    }
   ],
   "source": [
    "zero = torch.zeros(size= (3,3))\n",
    "zero"
   ]
  },
  {
   "cell_type": "code",
   "execution_count": 15,
   "id": "658514e1-ad9d-481b-80f4-a421640b5d60",
   "metadata": {},
   "outputs": [
    {
     "data": {
      "text/plain": [
       "torch.Size([3, 3])"
      ]
     },
     "execution_count": 15,
     "metadata": {},
     "output_type": "execute_result"
    }
   ],
   "source": [
    "zero.shape"
   ]
  },
  {
   "cell_type": "code",
   "execution_count": 16,
   "id": "0a62dd8b-6b1c-4da0-a50e-96ed7b4cb685",
   "metadata": {},
   "outputs": [
    {
     "data": {
      "text/plain": [
       "2"
      ]
     },
     "execution_count": 16,
     "metadata": {},
     "output_type": "execute_result"
    }
   ],
   "source": [
    "zero.ndim"
   ]
  },
  {
   "cell_type": "markdown",
   "id": "efb1d599-e1c7-46a1-a2e5-28a07a72be09",
   "metadata": {},
   "source": [
    "## Create range of Tensors"
   ]
  },
  {
   "cell_type": "code",
   "execution_count": 17,
   "id": "a52ded78-5d23-4e7b-a36c-f069c1bda921",
   "metadata": {},
   "outputs": [
    {
     "data": {
      "text/plain": [
       "tensor([  0,  77, 154, 231, 308, 385, 462, 539, 616, 693, 770, 847, 924])"
      ]
     },
     "execution_count": 17,
     "metadata": {},
     "output_type": "execute_result"
    }
   ],
   "source": [
    "range = torch.arange(start=0, end=1000, step=77)\n",
    "range"
   ]
  },
  {
   "cell_type": "code",
   "execution_count": null,
   "id": "051f9534-cde7-4f36-ba83-2eec50806016",
   "metadata": {},
   "outputs": [],
   "source": []
  },
  {
   "cell_type": "code",
   "execution_count": 18,
   "id": "64a327ad-4139-47d9-97b6-b9cfbfc83034",
   "metadata": {},
   "outputs": [
    {
     "data": {
      "text/plain": [
       "1"
      ]
     },
     "execution_count": 18,
     "metadata": {},
     "output_type": "execute_result"
    }
   ],
   "source": [
    "range.ndim"
   ]
  },
  {
   "cell_type": "code",
   "execution_count": 19,
   "id": "f2bb77ea-043a-455a-954f-51fc3ab0a2df",
   "metadata": {},
   "outputs": [
    {
     "data": {
      "text/plain": [
       "torch.Size([13])"
      ]
     },
     "execution_count": 19,
     "metadata": {},
     "output_type": "execute_result"
    }
   ],
   "source": [
    "range.shape"
   ]
  },
  {
   "cell_type": "markdown",
   "id": "4a86436f-ec34-4bef-92b6-4ebd349f74ee",
   "metadata": {},
   "source": [
    "## Tensor data type"
   ]
  },
  {
   "cell_type": "code",
   "execution_count": 30,
   "id": "9b7d5bfc-f310-42bd-9dce-27f0a83dbc12",
   "metadata": {},
   "outputs": [
    {
     "data": {
      "text/plain": [
       "torch.float32"
      ]
     },
     "execution_count": 30,
     "metadata": {},
     "output_type": "execute_result"
    }
   ],
   "source": [
    "float_32_tensor = torch.tensor([1.0,2.0],\n",
    "                              dtype=None,\n",
    "                              requires_grad=False)\n",
    "float_32_tensor.dtype"
   ]
  },
  {
   "cell_type": "code",
   "execution_count": 34,
   "id": "e2c5d4fb-241c-4f39-aa16-1935ae330a40",
   "metadata": {},
   "outputs": [
    {
     "data": {
      "text/plain": [
       "torch.float16"
      ]
     },
     "execution_count": 34,
     "metadata": {},
     "output_type": "execute_result"
    }
   ],
   "source": [
    "float_16_tensor = float_32_tensor.type(torch.float16)\n",
    "float_16_tensor.dtype"
   ]
  },
  {
   "cell_type": "code",
   "execution_count": 36,
   "id": "3a4db260-11de-48b2-a874-bee778711594",
   "metadata": {},
   "outputs": [
    {
     "data": {
      "text/plain": [
       "tensor([1., 4.])"
      ]
     },
     "execution_count": 36,
     "metadata": {},
     "output_type": "execute_result"
    }
   ],
   "source": [
    "X = float_32_tensor * float_16_tensor\n",
    "X"
   ]
  },
  {
   "cell_type": "code",
   "execution_count": 37,
   "id": "56cdab0f-b1ad-416b-8e49-062676151f3e",
   "metadata": {},
   "outputs": [
    {
     "data": {
      "text/plain": [
       "torch.float32"
      ]
     },
     "execution_count": 37,
     "metadata": {},
     "output_type": "execute_result"
    }
   ],
   "source": [
    "X.dtype"
   ]
  },
  {
   "cell_type": "markdown",
   "id": "02774a27-0566-4498-8a49-8bbfe18d0676",
   "metadata": {},
   "source": [
    "### Getting information form tensors\n",
    " 1. Tensors are not of right datadype\n",
    " 2. Tensors are not shape\n",
    " 3. Tensors are not right device"
   ]
  },
  {
   "cell_type": "code",
   "execution_count": 45,
   "id": "a93db1b0-dca5-437d-8b48-806fe7ef1d92",
   "metadata": {},
   "outputs": [
    {
     "data": {
      "text/plain": [
       "tensor([[0.9162, 0.2210, 0.8772, 0.4666],\n",
       "        [0.3667, 0.3719, 0.9636, 0.4134],\n",
       "        [0.6950, 0.4559, 0.7874, 0.0621]])"
      ]
     },
     "execution_count": 45,
     "metadata": {},
     "output_type": "execute_result"
    }
   ],
   "source": [
    "some_tensor = torch.rand((3,4), device='cpu')\n",
    "some_tensor"
   ]
  },
  {
   "cell_type": "code",
   "execution_count": 46,
   "id": "581234db-231e-4b4e-acc0-575a7b572534",
   "metadata": {},
   "outputs": [
    {
     "name": "stdout",
     "output_type": "stream",
     "text": [
      "tensor([[0.9162, 0.2210, 0.8772, 0.4666],\n",
      "        [0.3667, 0.3719, 0.9636, 0.4134],\n",
      "        [0.6950, 0.4559, 0.7874, 0.0621]])\n",
      "Datatype of tensor : torch.float32\n",
      "Shape of tensor : torch.Size([3, 4])\n",
      "Device of tensor : cpu\n"
     ]
    }
   ],
   "source": [
    "#Find detail about tensors\n",
    "print(some_tensor)\n",
    "print(f\"Datatype of tensor : {some_tensor.dtype}\")\n",
    "print(f\"Shape of tensor : {some_tensor.shape}\")\n",
    "print(f\"Device of tensor : {some_tensor.device}\")"
   ]
  },
  {
   "cell_type": "markdown",
   "id": "56afd3ba-aeba-43b1-bb46-c58edb9bccf9",
   "metadata": {},
   "source": [
    "### Manipulating tensors (tensor operations)\n",
    "\n",
    "* Addidtion\n",
    "* Substraction\n",
    "* Multiplication (element wise)\n",
    "* division\n",
    "* Matrix Multiplication"
   ]
  },
  {
   "cell_type": "code",
   "execution_count": 50,
   "id": "8d7529e4-d602-4557-92bc-80e5f3139777",
   "metadata": {},
   "outputs": [
    {
     "data": {
      "text/plain": [
       "tensor([11, 12, 13, 14])"
      ]
     },
     "execution_count": 50,
     "metadata": {},
     "output_type": "execute_result"
    }
   ],
   "source": [
    "tensor = torch.tensor([1,2,3,4])\n",
    "tensor= tensor +10\n",
    "tensor"
   ]
  },
  {
   "cell_type": "code",
   "execution_count": 51,
   "id": "7fd18c7a-9e18-4a1b-8f61-482f470d241f",
   "metadata": {},
   "outputs": [
    {
     "data": {
      "text/plain": [
       "tensor([110, 120, 130, 140])"
      ]
     },
     "execution_count": 51,
     "metadata": {},
     "output_type": "execute_result"
    }
   ],
   "source": [
    "tensor *10"
   ]
  },
  {
   "cell_type": "code",
   "execution_count": 56,
   "id": "d171d1ec-e958-4017-bba6-48fe654e2170",
   "metadata": {},
   "outputs": [
    {
     "data": {
      "text/plain": [
       "tensor([1, 2, 3, 4])"
      ]
     },
     "execution_count": 56,
     "metadata": {},
     "output_type": "execute_result"
    }
   ],
   "source": [
    "tensor -10\n"
   ]
  },
  {
   "cell_type": "markdown",
   "id": "c6e3d388-3151-4467-b226-06002bebbb6c",
   "metadata": {},
   "source": [
    "## MATRIX Multiplication\n",
    "two main ways \n",
    "1. Element wise multiplication (Scaler multiplication)\n",
    "2. Matrix multiplication (Dot product)\n",
    "Inner dimensions must match\n",
    "Result will hav ethe shape of outer dimension"
   ]
  },
  {
   "cell_type": "code",
   "execution_count": 60,
   "id": "deb4808d-ea25-44aa-be51-fa89be999661",
   "metadata": {},
   "outputs": [
    {
     "name": "stdout",
     "output_type": "stream",
     "text": [
      "tensor([121, 144, 169, 196])\n"
     ]
    },
    {
     "data": {
      "text/plain": [
       "torch.int64"
      ]
     },
     "execution_count": 60,
     "metadata": {},
     "output_type": "execute_result"
    }
   ],
   "source": [
    "print(tensor * tensor)\n",
    "tensor.dtype"
   ]
  },
  {
   "cell_type": "code",
   "execution_count": 66,
   "id": "0cc68032-0b2b-45db-8e8d-fc9e8594eaad",
   "metadata": {},
   "outputs": [
    {
     "data": {
      "text/plain": [
       "tensor(630)"
      ]
     },
     "execution_count": 66,
     "metadata": {},
     "output_type": "execute_result"
    }
   ],
   "source": [
    " res = torch.matmul(tensor, tensor)\n",
    "tensor.shape\n",
    "tensor\n",
    "res"
   ]
  },
  {
   "cell_type": "markdown",
   "id": "fb127d6e-874a-456b-b38c-e4de0934d8d3",
   "metadata": {},
   "source": [
    "## shape Errors "
   ]
  },
  {
   "cell_type": "code",
   "execution_count": null,
   "id": "ca7adfe8-fa11-4916-b0b2-a6dd38cc12f0",
   "metadata": {},
   "outputs": [],
   "source": [
    "tensor_A = torch.tensor([[1,2]])"
   ]
  }
 ],
 "metadata": {
  "kernelspec": {
   "display_name": "denv",
   "language": "python",
   "name": "denv"
  },
  "language_info": {
   "codemirror_mode": {
    "name": "ipython",
    "version": 3
   },
   "file_extension": ".py",
   "mimetype": "text/x-python",
   "name": "python",
   "nbconvert_exporter": "python",
   "pygments_lexer": "ipython3",
   "version": "3.10.9"
  }
 },
 "nbformat": 4,
 "nbformat_minor": 5
}
